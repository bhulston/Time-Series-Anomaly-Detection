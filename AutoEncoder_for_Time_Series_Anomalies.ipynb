{
  "nbformat": 4,
  "nbformat_minor": 0,
  "metadata": {
    "colab": {
      "provenance": []
    },
    "kernelspec": {
      "name": "python3",
      "display_name": "Python 3"
    },
    "language_info": {
      "name": "python"
    }
  },
  "cells": [
    {
      "cell_type": "code",
      "source": [
        "from google.colab import drive\n",
        "drive.mount('/content/drive')"
      ],
      "metadata": {
        "colab": {
          "base_uri": "https://localhost:8080/"
        },
        "id": "H3KVxBHsZ_j7",
        "outputId": "21bb8b3c-54d6-4d62-bb13-dac32726831d"
      },
      "execution_count": null,
      "outputs": [
        {
          "output_type": "stream",
          "name": "stdout",
          "text": [
            "Mounted at /content/drive\n"
          ]
        }
      ]
    },
    {
      "cell_type": "code",
      "source": [
        "import os \n",
        "\n",
        "os.chdir('/content/drive/Shareddrives/DSO 569')"
      ],
      "metadata": {
        "id": "IAevRDupZ9lI"
      },
      "execution_count": null,
      "outputs": []
    },
    {
      "cell_type": "code",
      "execution_count": null,
      "metadata": {
        "id": "ms7AWOijU0i7"
      },
      "outputs": [],
      "source": [
        "import numpy as np\n",
        "import pandas as pd"
      ]
    },
    {
      "cell_type": "code",
      "source": [
        "ls"
      ],
      "metadata": {
        "id": "BgFdOkY9VQ1I",
        "colab": {
          "base_uri": "https://localhost:8080/"
        },
        "outputId": "e9adc3e8-b7b2-4471-b188-064be2e7601f"
      },
      "execution_count": null,
      "outputs": [
        {
          "output_type": "stream",
          "name": "stdout",
          "text": [
            "'DSO 569 code.ipynb'\n",
            "'processminer-rare-event-mts - data.csv'\n",
            "'processminer-rare-event-mts - data.gsheet'\n"
          ]
        }
      ]
    },
    {
      "cell_type": "code",
      "source": [
        "events = pd.read_csv('processminer-rare-event-mts - data.csv')"
      ],
      "metadata": {
        "id": "aw0F5E8warBy"
      },
      "execution_count": null,
      "outputs": []
    },
    {
      "cell_type": "code",
      "source": [
        "events"
      ],
      "metadata": {
        "colab": {
          "base_uri": "https://localhost:8080/",
          "height": 424
        },
        "id": "hijxjTVLr8vt",
        "outputId": "cab55461-ac60-4355-c69b-35d8dc5f2968"
      },
      "execution_count": null,
      "outputs": [
        {
          "output_type": "execute_result",
          "data": {
            "text/plain": [
              "                time  y        x1        x2        x3          x4        x5  \\\n",
              "0        5/1/99 0:00  0  0.376665 -4.596435 -4.095756   13.497687 -0.118830   \n",
              "1        5/1/99 0:02  0  0.475720 -4.542502 -4.018359   16.230659 -0.128733   \n",
              "2        5/1/99 0:04  0  0.363848 -4.681394 -4.353147   14.127997 -0.138636   \n",
              "3        5/1/99 0:06  0  0.301590 -4.758934 -4.023612   13.161566 -0.148142   \n",
              "4        5/1/99 0:08  0  0.265578 -4.749928 -4.333150   15.267340 -0.155314   \n",
              "...              ... ..       ...       ...       ...         ...       ...   \n",
              "18393  5/28/99 23:58  0 -0.877441  0.786430  0.406426  135.301215  0.112295   \n",
              "18394   5/29/99 0:00  0 -0.843988  0.633086  0.561918  133.228949  0.141332   \n",
              "18395   5/29/99 0:02  0 -0.826547  0.450126  0.334582  134.977973  0.170370   \n",
              "18396   5/29/99 0:04  0 -0.822843  0.419383  0.387263  135.658942  0.199422   \n",
              "18397   5/29/99 0:06  0 -0.840981  0.582710  0.593416  136.339880  0.228460   \n",
              "\n",
              "              x6        x7        x8  ...        x52       x53       x54  \\\n",
              "0     -20.669883  0.000732 -0.061114  ...  10.091721  0.053279 -4.936434   \n",
              "1     -18.758079  0.000732 -0.061114  ...  10.095871  0.062801 -4.937179   \n",
              "2     -17.836632  0.010803 -0.061114  ...  10.100265  0.072322 -4.937924   \n",
              "3     -18.517601  0.002075 -0.061114  ...  10.104660  0.081600 -4.938669   \n",
              "4     -17.505913  0.000732 -0.061114  ...  10.109054  0.091121 -4.939414   \n",
              "...          ...       ...       ...  ...        ...       ...       ...   \n",
              "18393  26.300392 -0.159185  0.058823  ...  -0.773514 -0.752385  2.682413   \n",
              "18394  25.678597 -0.159185  0.058823  ...  -0.773514 -0.752385  2.683338   \n",
              "18395  25.056801 -0.159185  0.048752  ...  -0.773514 -0.752385  2.684263   \n",
              "18396  24.435005 -0.159185  0.048752  ...  -0.773514 -0.752385  2.685189   \n",
              "18397  24.712960 -0.159185  0.048752  ...  -0.773514 -0.752385  2.686114   \n",
              "\n",
              "             x55        x56       x57       x58       x59       x60  x61  \n",
              "0     -24.590146  18.515436  3.473400  0.033444  0.953219  0.006076    0  \n",
              "1     -32.413266  22.760065  2.682933  0.033536  1.090502  0.006083    0  \n",
              "2     -34.183774  27.004663  3.537487  0.033629  1.840540  0.006090    0  \n",
              "3     -35.954281  21.672449  3.986095  0.033721  2.554880  0.006097    0  \n",
              "4     -37.724789  21.907251  3.601573  0.033777  1.410494  0.006105    0  \n",
              "...          ...        ...       ...       ...       ...       ...  ...  \n",
              "18393   6.944644 -37.795661 -0.860218  0.010220  0.895685 -0.011242    0  \n",
              "18394   0.507755 -39.357199 -0.915698  0.010620  0.175348 -0.011235    0  \n",
              "18395   2.809146 -39.357199 -1.409596  0.013323  0.621020 -0.011228    0  \n",
              "18396   2.164859 -39.357199 -0.860218  0.012888  1.390902 -0.011221    0  \n",
              "18397   1.416690 -39.357199 -0.732044  0.012453  0.418993 -0.011214    0  \n",
              "\n",
              "[18398 rows x 63 columns]"
            ],
            "text/html": [
              "\n",
              "  <div id=\"df-455ed04e-e659-4f26-a829-5ba00e250e97\">\n",
              "    <div class=\"colab-df-container\">\n",
              "      <div>\n",
              "<style scoped>\n",
              "    .dataframe tbody tr th:only-of-type {\n",
              "        vertical-align: middle;\n",
              "    }\n",
              "\n",
              "    .dataframe tbody tr th {\n",
              "        vertical-align: top;\n",
              "    }\n",
              "\n",
              "    .dataframe thead th {\n",
              "        text-align: right;\n",
              "    }\n",
              "</style>\n",
              "<table border=\"1\" class=\"dataframe\">\n",
              "  <thead>\n",
              "    <tr style=\"text-align: right;\">\n",
              "      <th></th>\n",
              "      <th>time</th>\n",
              "      <th>y</th>\n",
              "      <th>x1</th>\n",
              "      <th>x2</th>\n",
              "      <th>x3</th>\n",
              "      <th>x4</th>\n",
              "      <th>x5</th>\n",
              "      <th>x6</th>\n",
              "      <th>x7</th>\n",
              "      <th>x8</th>\n",
              "      <th>...</th>\n",
              "      <th>x52</th>\n",
              "      <th>x53</th>\n",
              "      <th>x54</th>\n",
              "      <th>x55</th>\n",
              "      <th>x56</th>\n",
              "      <th>x57</th>\n",
              "      <th>x58</th>\n",
              "      <th>x59</th>\n",
              "      <th>x60</th>\n",
              "      <th>x61</th>\n",
              "    </tr>\n",
              "  </thead>\n",
              "  <tbody>\n",
              "    <tr>\n",
              "      <th>0</th>\n",
              "      <td>5/1/99 0:00</td>\n",
              "      <td>0</td>\n",
              "      <td>0.376665</td>\n",
              "      <td>-4.596435</td>\n",
              "      <td>-4.095756</td>\n",
              "      <td>13.497687</td>\n",
              "      <td>-0.118830</td>\n",
              "      <td>-20.669883</td>\n",
              "      <td>0.000732</td>\n",
              "      <td>-0.061114</td>\n",
              "      <td>...</td>\n",
              "      <td>10.091721</td>\n",
              "      <td>0.053279</td>\n",
              "      <td>-4.936434</td>\n",
              "      <td>-24.590146</td>\n",
              "      <td>18.515436</td>\n",
              "      <td>3.473400</td>\n",
              "      <td>0.033444</td>\n",
              "      <td>0.953219</td>\n",
              "      <td>0.006076</td>\n",
              "      <td>0</td>\n",
              "    </tr>\n",
              "    <tr>\n",
              "      <th>1</th>\n",
              "      <td>5/1/99 0:02</td>\n",
              "      <td>0</td>\n",
              "      <td>0.475720</td>\n",
              "      <td>-4.542502</td>\n",
              "      <td>-4.018359</td>\n",
              "      <td>16.230659</td>\n",
              "      <td>-0.128733</td>\n",
              "      <td>-18.758079</td>\n",
              "      <td>0.000732</td>\n",
              "      <td>-0.061114</td>\n",
              "      <td>...</td>\n",
              "      <td>10.095871</td>\n",
              "      <td>0.062801</td>\n",
              "      <td>-4.937179</td>\n",
              "      <td>-32.413266</td>\n",
              "      <td>22.760065</td>\n",
              "      <td>2.682933</td>\n",
              "      <td>0.033536</td>\n",
              "      <td>1.090502</td>\n",
              "      <td>0.006083</td>\n",
              "      <td>0</td>\n",
              "    </tr>\n",
              "    <tr>\n",
              "      <th>2</th>\n",
              "      <td>5/1/99 0:04</td>\n",
              "      <td>0</td>\n",
              "      <td>0.363848</td>\n",
              "      <td>-4.681394</td>\n",
              "      <td>-4.353147</td>\n",
              "      <td>14.127997</td>\n",
              "      <td>-0.138636</td>\n",
              "      <td>-17.836632</td>\n",
              "      <td>0.010803</td>\n",
              "      <td>-0.061114</td>\n",
              "      <td>...</td>\n",
              "      <td>10.100265</td>\n",
              "      <td>0.072322</td>\n",
              "      <td>-4.937924</td>\n",
              "      <td>-34.183774</td>\n",
              "      <td>27.004663</td>\n",
              "      <td>3.537487</td>\n",
              "      <td>0.033629</td>\n",
              "      <td>1.840540</td>\n",
              "      <td>0.006090</td>\n",
              "      <td>0</td>\n",
              "    </tr>\n",
              "    <tr>\n",
              "      <th>3</th>\n",
              "      <td>5/1/99 0:06</td>\n",
              "      <td>0</td>\n",
              "      <td>0.301590</td>\n",
              "      <td>-4.758934</td>\n",
              "      <td>-4.023612</td>\n",
              "      <td>13.161566</td>\n",
              "      <td>-0.148142</td>\n",
              "      <td>-18.517601</td>\n",
              "      <td>0.002075</td>\n",
              "      <td>-0.061114</td>\n",
              "      <td>...</td>\n",
              "      <td>10.104660</td>\n",
              "      <td>0.081600</td>\n",
              "      <td>-4.938669</td>\n",
              "      <td>-35.954281</td>\n",
              "      <td>21.672449</td>\n",
              "      <td>3.986095</td>\n",
              "      <td>0.033721</td>\n",
              "      <td>2.554880</td>\n",
              "      <td>0.006097</td>\n",
              "      <td>0</td>\n",
              "    </tr>\n",
              "    <tr>\n",
              "      <th>4</th>\n",
              "      <td>5/1/99 0:08</td>\n",
              "      <td>0</td>\n",
              "      <td>0.265578</td>\n",
              "      <td>-4.749928</td>\n",
              "      <td>-4.333150</td>\n",
              "      <td>15.267340</td>\n",
              "      <td>-0.155314</td>\n",
              "      <td>-17.505913</td>\n",
              "      <td>0.000732</td>\n",
              "      <td>-0.061114</td>\n",
              "      <td>...</td>\n",
              "      <td>10.109054</td>\n",
              "      <td>0.091121</td>\n",
              "      <td>-4.939414</td>\n",
              "      <td>-37.724789</td>\n",
              "      <td>21.907251</td>\n",
              "      <td>3.601573</td>\n",
              "      <td>0.033777</td>\n",
              "      <td>1.410494</td>\n",
              "      <td>0.006105</td>\n",
              "      <td>0</td>\n",
              "    </tr>\n",
              "    <tr>\n",
              "      <th>...</th>\n",
              "      <td>...</td>\n",
              "      <td>...</td>\n",
              "      <td>...</td>\n",
              "      <td>...</td>\n",
              "      <td>...</td>\n",
              "      <td>...</td>\n",
              "      <td>...</td>\n",
              "      <td>...</td>\n",
              "      <td>...</td>\n",
              "      <td>...</td>\n",
              "      <td>...</td>\n",
              "      <td>...</td>\n",
              "      <td>...</td>\n",
              "      <td>...</td>\n",
              "      <td>...</td>\n",
              "      <td>...</td>\n",
              "      <td>...</td>\n",
              "      <td>...</td>\n",
              "      <td>...</td>\n",
              "      <td>...</td>\n",
              "      <td>...</td>\n",
              "    </tr>\n",
              "    <tr>\n",
              "      <th>18393</th>\n",
              "      <td>5/28/99 23:58</td>\n",
              "      <td>0</td>\n",
              "      <td>-0.877441</td>\n",
              "      <td>0.786430</td>\n",
              "      <td>0.406426</td>\n",
              "      <td>135.301215</td>\n",
              "      <td>0.112295</td>\n",
              "      <td>26.300392</td>\n",
              "      <td>-0.159185</td>\n",
              "      <td>0.058823</td>\n",
              "      <td>...</td>\n",
              "      <td>-0.773514</td>\n",
              "      <td>-0.752385</td>\n",
              "      <td>2.682413</td>\n",
              "      <td>6.944644</td>\n",
              "      <td>-37.795661</td>\n",
              "      <td>-0.860218</td>\n",
              "      <td>0.010220</td>\n",
              "      <td>0.895685</td>\n",
              "      <td>-0.011242</td>\n",
              "      <td>0</td>\n",
              "    </tr>\n",
              "    <tr>\n",
              "      <th>18394</th>\n",
              "      <td>5/29/99 0:00</td>\n",
              "      <td>0</td>\n",
              "      <td>-0.843988</td>\n",
              "      <td>0.633086</td>\n",
              "      <td>0.561918</td>\n",
              "      <td>133.228949</td>\n",
              "      <td>0.141332</td>\n",
              "      <td>25.678597</td>\n",
              "      <td>-0.159185</td>\n",
              "      <td>0.058823</td>\n",
              "      <td>...</td>\n",
              "      <td>-0.773514</td>\n",
              "      <td>-0.752385</td>\n",
              "      <td>2.683338</td>\n",
              "      <td>0.507755</td>\n",
              "      <td>-39.357199</td>\n",
              "      <td>-0.915698</td>\n",
              "      <td>0.010620</td>\n",
              "      <td>0.175348</td>\n",
              "      <td>-0.011235</td>\n",
              "      <td>0</td>\n",
              "    </tr>\n",
              "    <tr>\n",
              "      <th>18395</th>\n",
              "      <td>5/29/99 0:02</td>\n",
              "      <td>0</td>\n",
              "      <td>-0.826547</td>\n",
              "      <td>0.450126</td>\n",
              "      <td>0.334582</td>\n",
              "      <td>134.977973</td>\n",
              "      <td>0.170370</td>\n",
              "      <td>25.056801</td>\n",
              "      <td>-0.159185</td>\n",
              "      <td>0.048752</td>\n",
              "      <td>...</td>\n",
              "      <td>-0.773514</td>\n",
              "      <td>-0.752385</td>\n",
              "      <td>2.684263</td>\n",
              "      <td>2.809146</td>\n",
              "      <td>-39.357199</td>\n",
              "      <td>-1.409596</td>\n",
              "      <td>0.013323</td>\n",
              "      <td>0.621020</td>\n",
              "      <td>-0.011228</td>\n",
              "      <td>0</td>\n",
              "    </tr>\n",
              "    <tr>\n",
              "      <th>18396</th>\n",
              "      <td>5/29/99 0:04</td>\n",
              "      <td>0</td>\n",
              "      <td>-0.822843</td>\n",
              "      <td>0.419383</td>\n",
              "      <td>0.387263</td>\n",
              "      <td>135.658942</td>\n",
              "      <td>0.199422</td>\n",
              "      <td>24.435005</td>\n",
              "      <td>-0.159185</td>\n",
              "      <td>0.048752</td>\n",
              "      <td>...</td>\n",
              "      <td>-0.773514</td>\n",
              "      <td>-0.752385</td>\n",
              "      <td>2.685189</td>\n",
              "      <td>2.164859</td>\n",
              "      <td>-39.357199</td>\n",
              "      <td>-0.860218</td>\n",
              "      <td>0.012888</td>\n",
              "      <td>1.390902</td>\n",
              "      <td>-0.011221</td>\n",
              "      <td>0</td>\n",
              "    </tr>\n",
              "    <tr>\n",
              "      <th>18397</th>\n",
              "      <td>5/29/99 0:06</td>\n",
              "      <td>0</td>\n",
              "      <td>-0.840981</td>\n",
              "      <td>0.582710</td>\n",
              "      <td>0.593416</td>\n",
              "      <td>136.339880</td>\n",
              "      <td>0.228460</td>\n",
              "      <td>24.712960</td>\n",
              "      <td>-0.159185</td>\n",
              "      <td>0.048752</td>\n",
              "      <td>...</td>\n",
              "      <td>-0.773514</td>\n",
              "      <td>-0.752385</td>\n",
              "      <td>2.686114</td>\n",
              "      <td>1.416690</td>\n",
              "      <td>-39.357199</td>\n",
              "      <td>-0.732044</td>\n",
              "      <td>0.012453</td>\n",
              "      <td>0.418993</td>\n",
              "      <td>-0.011214</td>\n",
              "      <td>0</td>\n",
              "    </tr>\n",
              "  </tbody>\n",
              "</table>\n",
              "<p>18398 rows × 63 columns</p>\n",
              "</div>\n",
              "      <button class=\"colab-df-convert\" onclick=\"convertToInteractive('df-455ed04e-e659-4f26-a829-5ba00e250e97')\"\n",
              "              title=\"Convert this dataframe to an interactive table.\"\n",
              "              style=\"display:none;\">\n",
              "        \n",
              "  <svg xmlns=\"http://www.w3.org/2000/svg\" height=\"24px\"viewBox=\"0 0 24 24\"\n",
              "       width=\"24px\">\n",
              "    <path d=\"M0 0h24v24H0V0z\" fill=\"none\"/>\n",
              "    <path d=\"M18.56 5.44l.94 2.06.94-2.06 2.06-.94-2.06-.94-.94-2.06-.94 2.06-2.06.94zm-11 1L8.5 8.5l.94-2.06 2.06-.94-2.06-.94L8.5 2.5l-.94 2.06-2.06.94zm10 10l.94 2.06.94-2.06 2.06-.94-2.06-.94-.94-2.06-.94 2.06-2.06.94z\"/><path d=\"M17.41 7.96l-1.37-1.37c-.4-.4-.92-.59-1.43-.59-.52 0-1.04.2-1.43.59L10.3 9.45l-7.72 7.72c-.78.78-.78 2.05 0 2.83L4 21.41c.39.39.9.59 1.41.59.51 0 1.02-.2 1.41-.59l7.78-7.78 2.81-2.81c.8-.78.8-2.07 0-2.86zM5.41 20L4 18.59l7.72-7.72 1.47 1.35L5.41 20z\"/>\n",
              "  </svg>\n",
              "      </button>\n",
              "      \n",
              "  <style>\n",
              "    .colab-df-container {\n",
              "      display:flex;\n",
              "      flex-wrap:wrap;\n",
              "      gap: 12px;\n",
              "    }\n",
              "\n",
              "    .colab-df-convert {\n",
              "      background-color: #E8F0FE;\n",
              "      border: none;\n",
              "      border-radius: 50%;\n",
              "      cursor: pointer;\n",
              "      display: none;\n",
              "      fill: #1967D2;\n",
              "      height: 32px;\n",
              "      padding: 0 0 0 0;\n",
              "      width: 32px;\n",
              "    }\n",
              "\n",
              "    .colab-df-convert:hover {\n",
              "      background-color: #E2EBFA;\n",
              "      box-shadow: 0px 1px 2px rgba(60, 64, 67, 0.3), 0px 1px 3px 1px rgba(60, 64, 67, 0.15);\n",
              "      fill: #174EA6;\n",
              "    }\n",
              "\n",
              "    [theme=dark] .colab-df-convert {\n",
              "      background-color: #3B4455;\n",
              "      fill: #D2E3FC;\n",
              "    }\n",
              "\n",
              "    [theme=dark] .colab-df-convert:hover {\n",
              "      background-color: #434B5C;\n",
              "      box-shadow: 0px 1px 3px 1px rgba(0, 0, 0, 0.15);\n",
              "      filter: drop-shadow(0px 1px 2px rgba(0, 0, 0, 0.3));\n",
              "      fill: #FFFFFF;\n",
              "    }\n",
              "  </style>\n",
              "\n",
              "      <script>\n",
              "        const buttonEl =\n",
              "          document.querySelector('#df-455ed04e-e659-4f26-a829-5ba00e250e97 button.colab-df-convert');\n",
              "        buttonEl.style.display =\n",
              "          google.colab.kernel.accessAllowed ? 'block' : 'none';\n",
              "\n",
              "        async function convertToInteractive(key) {\n",
              "          const element = document.querySelector('#df-455ed04e-e659-4f26-a829-5ba00e250e97');\n",
              "          const dataTable =\n",
              "            await google.colab.kernel.invokeFunction('convertToInteractive',\n",
              "                                                     [key], {});\n",
              "          if (!dataTable) return;\n",
              "\n",
              "          const docLinkHtml = 'Like what you see? Visit the ' +\n",
              "            '<a target=\"_blank\" href=https://colab.research.google.com/notebooks/data_table.ipynb>data table notebook</a>'\n",
              "            + ' to learn more about interactive tables.';\n",
              "          element.innerHTML = '';\n",
              "          dataTable['output_type'] = 'display_data';\n",
              "          await google.colab.output.renderOutput(dataTable, element);\n",
              "          const docLink = document.createElement('div');\n",
              "          docLink.innerHTML = docLinkHtml;\n",
              "          element.appendChild(docLink);\n",
              "        }\n",
              "      </script>\n",
              "    </div>\n",
              "  </div>\n",
              "  "
            ]
          },
          "metadata": {},
          "execution_count": 6
        }
      ]
    },
    {
      "cell_type": "markdown",
      "source": [
        "# Data Cleaning"
      ],
      "metadata": {
        "id": "NoRNQj_XVbZn"
      }
    },
    {
      "cell_type": "markdown",
      "source": [
        "## Categorical variable cleaning"
      ],
      "metadata": {
        "id": "ngkmNq6OVqJ2"
      }
    },
    {
      "cell_type": "code",
      "source": [
        "x28 = events.loc[:,'x28']\n",
        "x28"
      ],
      "metadata": {
        "id": "bo77DwiLVcTK",
        "colab": {
          "base_uri": "https://localhost:8080/"
        },
        "outputId": "76b82646-5df9-4164-e679-1063670c6602"
      },
      "execution_count": null,
      "outputs": [
        {
          "output_type": "execute_result",
          "data": {
            "text/plain": [
              "0        96\n",
              "1        96\n",
              "2        96\n",
              "3        96\n",
              "4        96\n",
              "         ..\n",
              "18393    96\n",
              "18394    96\n",
              "18395    96\n",
              "18396    96\n",
              "18397    96\n",
              "Name: x28, Length: 18398, dtype: int64"
            ]
          },
          "metadata": {},
          "execution_count": 7
        }
      ]
    },
    {
      "cell_type": "code",
      "source": [
        "one_hot_encoded = pd.get_dummies(x28.values)"
      ],
      "metadata": {
        "id": "K7YJcJuuVciP"
      },
      "execution_count": null,
      "outputs": []
    },
    {
      "cell_type": "code",
      "source": [
        "one_hot_encoded"
      ],
      "metadata": {
        "id": "p6eiZfCfVcjx",
        "colab": {
          "base_uri": "https://localhost:8080/",
          "height": 424
        },
        "outputId": "7027da30-6240-44c9-c3e0-378980182f5a"
      },
      "execution_count": null,
      "outputs": [
        {
          "output_type": "execute_result",
          "data": {
            "text/plain": [
              "       51   82   84   93   96   112  118  139\n",
              "0        0    0    0    0    1    0    0    0\n",
              "1        0    0    0    0    1    0    0    0\n",
              "2        0    0    0    0    1    0    0    0\n",
              "3        0    0    0    0    1    0    0    0\n",
              "4        0    0    0    0    1    0    0    0\n",
              "...    ...  ...  ...  ...  ...  ...  ...  ...\n",
              "18393    0    0    0    0    1    0    0    0\n",
              "18394    0    0    0    0    1    0    0    0\n",
              "18395    0    0    0    0    1    0    0    0\n",
              "18396    0    0    0    0    1    0    0    0\n",
              "18397    0    0    0    0    1    0    0    0\n",
              "\n",
              "[18398 rows x 8 columns]"
            ],
            "text/html": [
              "\n",
              "  <div id=\"df-4537ef28-97c9-41a0-a166-9561a1462902\">\n",
              "    <div class=\"colab-df-container\">\n",
              "      <div>\n",
              "<style scoped>\n",
              "    .dataframe tbody tr th:only-of-type {\n",
              "        vertical-align: middle;\n",
              "    }\n",
              "\n",
              "    .dataframe tbody tr th {\n",
              "        vertical-align: top;\n",
              "    }\n",
              "\n",
              "    .dataframe thead th {\n",
              "        text-align: right;\n",
              "    }\n",
              "</style>\n",
              "<table border=\"1\" class=\"dataframe\">\n",
              "  <thead>\n",
              "    <tr style=\"text-align: right;\">\n",
              "      <th></th>\n",
              "      <th>51</th>\n",
              "      <th>82</th>\n",
              "      <th>84</th>\n",
              "      <th>93</th>\n",
              "      <th>96</th>\n",
              "      <th>112</th>\n",
              "      <th>118</th>\n",
              "      <th>139</th>\n",
              "    </tr>\n",
              "  </thead>\n",
              "  <tbody>\n",
              "    <tr>\n",
              "      <th>0</th>\n",
              "      <td>0</td>\n",
              "      <td>0</td>\n",
              "      <td>0</td>\n",
              "      <td>0</td>\n",
              "      <td>1</td>\n",
              "      <td>0</td>\n",
              "      <td>0</td>\n",
              "      <td>0</td>\n",
              "    </tr>\n",
              "    <tr>\n",
              "      <th>1</th>\n",
              "      <td>0</td>\n",
              "      <td>0</td>\n",
              "      <td>0</td>\n",
              "      <td>0</td>\n",
              "      <td>1</td>\n",
              "      <td>0</td>\n",
              "      <td>0</td>\n",
              "      <td>0</td>\n",
              "    </tr>\n",
              "    <tr>\n",
              "      <th>2</th>\n",
              "      <td>0</td>\n",
              "      <td>0</td>\n",
              "      <td>0</td>\n",
              "      <td>0</td>\n",
              "      <td>1</td>\n",
              "      <td>0</td>\n",
              "      <td>0</td>\n",
              "      <td>0</td>\n",
              "    </tr>\n",
              "    <tr>\n",
              "      <th>3</th>\n",
              "      <td>0</td>\n",
              "      <td>0</td>\n",
              "      <td>0</td>\n",
              "      <td>0</td>\n",
              "      <td>1</td>\n",
              "      <td>0</td>\n",
              "      <td>0</td>\n",
              "      <td>0</td>\n",
              "    </tr>\n",
              "    <tr>\n",
              "      <th>4</th>\n",
              "      <td>0</td>\n",
              "      <td>0</td>\n",
              "      <td>0</td>\n",
              "      <td>0</td>\n",
              "      <td>1</td>\n",
              "      <td>0</td>\n",
              "      <td>0</td>\n",
              "      <td>0</td>\n",
              "    </tr>\n",
              "    <tr>\n",
              "      <th>...</th>\n",
              "      <td>...</td>\n",
              "      <td>...</td>\n",
              "      <td>...</td>\n",
              "      <td>...</td>\n",
              "      <td>...</td>\n",
              "      <td>...</td>\n",
              "      <td>...</td>\n",
              "      <td>...</td>\n",
              "    </tr>\n",
              "    <tr>\n",
              "      <th>18393</th>\n",
              "      <td>0</td>\n",
              "      <td>0</td>\n",
              "      <td>0</td>\n",
              "      <td>0</td>\n",
              "      <td>1</td>\n",
              "      <td>0</td>\n",
              "      <td>0</td>\n",
              "      <td>0</td>\n",
              "    </tr>\n",
              "    <tr>\n",
              "      <th>18394</th>\n",
              "      <td>0</td>\n",
              "      <td>0</td>\n",
              "      <td>0</td>\n",
              "      <td>0</td>\n",
              "      <td>1</td>\n",
              "      <td>0</td>\n",
              "      <td>0</td>\n",
              "      <td>0</td>\n",
              "    </tr>\n",
              "    <tr>\n",
              "      <th>18395</th>\n",
              "      <td>0</td>\n",
              "      <td>0</td>\n",
              "      <td>0</td>\n",
              "      <td>0</td>\n",
              "      <td>1</td>\n",
              "      <td>0</td>\n",
              "      <td>0</td>\n",
              "      <td>0</td>\n",
              "    </tr>\n",
              "    <tr>\n",
              "      <th>18396</th>\n",
              "      <td>0</td>\n",
              "      <td>0</td>\n",
              "      <td>0</td>\n",
              "      <td>0</td>\n",
              "      <td>1</td>\n",
              "      <td>0</td>\n",
              "      <td>0</td>\n",
              "      <td>0</td>\n",
              "    </tr>\n",
              "    <tr>\n",
              "      <th>18397</th>\n",
              "      <td>0</td>\n",
              "      <td>0</td>\n",
              "      <td>0</td>\n",
              "      <td>0</td>\n",
              "      <td>1</td>\n",
              "      <td>0</td>\n",
              "      <td>0</td>\n",
              "      <td>0</td>\n",
              "    </tr>\n",
              "  </tbody>\n",
              "</table>\n",
              "<p>18398 rows × 8 columns</p>\n",
              "</div>\n",
              "      <button class=\"colab-df-convert\" onclick=\"convertToInteractive('df-4537ef28-97c9-41a0-a166-9561a1462902')\"\n",
              "              title=\"Convert this dataframe to an interactive table.\"\n",
              "              style=\"display:none;\">\n",
              "        \n",
              "  <svg xmlns=\"http://www.w3.org/2000/svg\" height=\"24px\"viewBox=\"0 0 24 24\"\n",
              "       width=\"24px\">\n",
              "    <path d=\"M0 0h24v24H0V0z\" fill=\"none\"/>\n",
              "    <path d=\"M18.56 5.44l.94 2.06.94-2.06 2.06-.94-2.06-.94-.94-2.06-.94 2.06-2.06.94zm-11 1L8.5 8.5l.94-2.06 2.06-.94-2.06-.94L8.5 2.5l-.94 2.06-2.06.94zm10 10l.94 2.06.94-2.06 2.06-.94-2.06-.94-.94-2.06-.94 2.06-2.06.94z\"/><path d=\"M17.41 7.96l-1.37-1.37c-.4-.4-.92-.59-1.43-.59-.52 0-1.04.2-1.43.59L10.3 9.45l-7.72 7.72c-.78.78-.78 2.05 0 2.83L4 21.41c.39.39.9.59 1.41.59.51 0 1.02-.2 1.41-.59l7.78-7.78 2.81-2.81c.8-.78.8-2.07 0-2.86zM5.41 20L4 18.59l7.72-7.72 1.47 1.35L5.41 20z\"/>\n",
              "  </svg>\n",
              "      </button>\n",
              "      \n",
              "  <style>\n",
              "    .colab-df-container {\n",
              "      display:flex;\n",
              "      flex-wrap:wrap;\n",
              "      gap: 12px;\n",
              "    }\n",
              "\n",
              "    .colab-df-convert {\n",
              "      background-color: #E8F0FE;\n",
              "      border: none;\n",
              "      border-radius: 50%;\n",
              "      cursor: pointer;\n",
              "      display: none;\n",
              "      fill: #1967D2;\n",
              "      height: 32px;\n",
              "      padding: 0 0 0 0;\n",
              "      width: 32px;\n",
              "    }\n",
              "\n",
              "    .colab-df-convert:hover {\n",
              "      background-color: #E2EBFA;\n",
              "      box-shadow: 0px 1px 2px rgba(60, 64, 67, 0.3), 0px 1px 3px 1px rgba(60, 64, 67, 0.15);\n",
              "      fill: #174EA6;\n",
              "    }\n",
              "\n",
              "    [theme=dark] .colab-df-convert {\n",
              "      background-color: #3B4455;\n",
              "      fill: #D2E3FC;\n",
              "    }\n",
              "\n",
              "    [theme=dark] .colab-df-convert:hover {\n",
              "      background-color: #434B5C;\n",
              "      box-shadow: 0px 1px 3px 1px rgba(0, 0, 0, 0.15);\n",
              "      filter: drop-shadow(0px 1px 2px rgba(0, 0, 0, 0.3));\n",
              "      fill: #FFFFFF;\n",
              "    }\n",
              "  </style>\n",
              "\n",
              "      <script>\n",
              "        const buttonEl =\n",
              "          document.querySelector('#df-4537ef28-97c9-41a0-a166-9561a1462902 button.colab-df-convert');\n",
              "        buttonEl.style.display =\n",
              "          google.colab.kernel.accessAllowed ? 'block' : 'none';\n",
              "\n",
              "        async function convertToInteractive(key) {\n",
              "          const element = document.querySelector('#df-4537ef28-97c9-41a0-a166-9561a1462902');\n",
              "          const dataTable =\n",
              "            await google.colab.kernel.invokeFunction('convertToInteractive',\n",
              "                                                     [key], {});\n",
              "          if (!dataTable) return;\n",
              "\n",
              "          const docLinkHtml = 'Like what you see? Visit the ' +\n",
              "            '<a target=\"_blank\" href=https://colab.research.google.com/notebooks/data_table.ipynb>data table notebook</a>'\n",
              "            + ' to learn more about interactive tables.';\n",
              "          element.innerHTML = '';\n",
              "          dataTable['output_type'] = 'display_data';\n",
              "          await google.colab.output.renderOutput(dataTable, element);\n",
              "          const docLink = document.createElement('div');\n",
              "          docLink.innerHTML = docLinkHtml;\n",
              "          element.appendChild(docLink);\n",
              "        }\n",
              "      </script>\n",
              "    </div>\n",
              "  </div>\n",
              "  "
            ]
          },
          "metadata": {},
          "execution_count": 9
        }
      ]
    },
    {
      "cell_type": "code",
      "source": [
        "events_encoded = pd.concat([events, one_hot_encoded], axis=1)\n",
        "events_encoded = events_encoded.drop('x28', axis=1)"
      ],
      "metadata": {
        "id": "R-ryk5ZjVclm"
      },
      "execution_count": null,
      "outputs": []
    },
    {
      "cell_type": "code",
      "source": [
        "x61 = events_encoded.loc[:,'x61']\n",
        "x61.value_counts()"
      ],
      "metadata": {
        "id": "v9Ec-pFqVcnt",
        "colab": {
          "base_uri": "https://localhost:8080/"
        },
        "outputId": "976479a0-ebb2-4ebe-96ff-e7c2e172bf0c"
      },
      "execution_count": null,
      "outputs": [
        {
          "output_type": "execute_result",
          "data": {
            "text/plain": [
              "0    18379\n",
              "1       19\n",
              "Name: x61, dtype: int64"
            ]
          },
          "metadata": {},
          "execution_count": 11
        }
      ]
    },
    {
      "cell_type": "code",
      "source": [
        "events_encoded.head()"
      ],
      "metadata": {
        "colab": {
          "base_uri": "https://localhost:8080/",
          "height": 236
        },
        "id": "S2F0Ugt5kNIs",
        "outputId": "b42de439-334b-4236-c423-13d8827f527a"
      },
      "execution_count": null,
      "outputs": [
        {
          "output_type": "execute_result",
          "data": {
            "text/plain": [
              "          time  y        x1        x2        x3         x4        x5  \\\n",
              "0  5/1/99 0:00  0  0.376665 -4.596435 -4.095756  13.497687 -0.118830   \n",
              "1  5/1/99 0:02  0  0.475720 -4.542502 -4.018359  16.230659 -0.128733   \n",
              "2  5/1/99 0:04  0  0.363848 -4.681394 -4.353147  14.127997 -0.138636   \n",
              "3  5/1/99 0:06  0  0.301590 -4.758934 -4.023612  13.161566 -0.148142   \n",
              "4  5/1/99 0:08  0  0.265578 -4.749928 -4.333150  15.267340 -0.155314   \n",
              "\n",
              "          x6        x7        x8  ...       x60  x61  51  82  84  93  96  112  \\\n",
              "0 -20.669883  0.000732 -0.061114  ...  0.006076    0   0   0   0   0   1    0   \n",
              "1 -18.758079  0.000732 -0.061114  ...  0.006083    0   0   0   0   0   1    0   \n",
              "2 -17.836632  0.010803 -0.061114  ...  0.006090    0   0   0   0   0   1    0   \n",
              "3 -18.517601  0.002075 -0.061114  ...  0.006097    0   0   0   0   0   1    0   \n",
              "4 -17.505913  0.000732 -0.061114  ...  0.006105    0   0   0   0   0   1    0   \n",
              "\n",
              "   118  139  \n",
              "0    0    0  \n",
              "1    0    0  \n",
              "2    0    0  \n",
              "3    0    0  \n",
              "4    0    0  \n",
              "\n",
              "[5 rows x 70 columns]"
            ],
            "text/html": [
              "\n",
              "  <div id=\"df-0cb44d6b-c1e0-4921-b8f4-e4fb02bd4d6f\">\n",
              "    <div class=\"colab-df-container\">\n",
              "      <div>\n",
              "<style scoped>\n",
              "    .dataframe tbody tr th:only-of-type {\n",
              "        vertical-align: middle;\n",
              "    }\n",
              "\n",
              "    .dataframe tbody tr th {\n",
              "        vertical-align: top;\n",
              "    }\n",
              "\n",
              "    .dataframe thead th {\n",
              "        text-align: right;\n",
              "    }\n",
              "</style>\n",
              "<table border=\"1\" class=\"dataframe\">\n",
              "  <thead>\n",
              "    <tr style=\"text-align: right;\">\n",
              "      <th></th>\n",
              "      <th>time</th>\n",
              "      <th>y</th>\n",
              "      <th>x1</th>\n",
              "      <th>x2</th>\n",
              "      <th>x3</th>\n",
              "      <th>x4</th>\n",
              "      <th>x5</th>\n",
              "      <th>x6</th>\n",
              "      <th>x7</th>\n",
              "      <th>x8</th>\n",
              "      <th>...</th>\n",
              "      <th>x60</th>\n",
              "      <th>x61</th>\n",
              "      <th>51</th>\n",
              "      <th>82</th>\n",
              "      <th>84</th>\n",
              "      <th>93</th>\n",
              "      <th>96</th>\n",
              "      <th>112</th>\n",
              "      <th>118</th>\n",
              "      <th>139</th>\n",
              "    </tr>\n",
              "  </thead>\n",
              "  <tbody>\n",
              "    <tr>\n",
              "      <th>0</th>\n",
              "      <td>5/1/99 0:00</td>\n",
              "      <td>0</td>\n",
              "      <td>0.376665</td>\n",
              "      <td>-4.596435</td>\n",
              "      <td>-4.095756</td>\n",
              "      <td>13.497687</td>\n",
              "      <td>-0.118830</td>\n",
              "      <td>-20.669883</td>\n",
              "      <td>0.000732</td>\n",
              "      <td>-0.061114</td>\n",
              "      <td>...</td>\n",
              "      <td>0.006076</td>\n",
              "      <td>0</td>\n",
              "      <td>0</td>\n",
              "      <td>0</td>\n",
              "      <td>0</td>\n",
              "      <td>0</td>\n",
              "      <td>1</td>\n",
              "      <td>0</td>\n",
              "      <td>0</td>\n",
              "      <td>0</td>\n",
              "    </tr>\n",
              "    <tr>\n",
              "      <th>1</th>\n",
              "      <td>5/1/99 0:02</td>\n",
              "      <td>0</td>\n",
              "      <td>0.475720</td>\n",
              "      <td>-4.542502</td>\n",
              "      <td>-4.018359</td>\n",
              "      <td>16.230659</td>\n",
              "      <td>-0.128733</td>\n",
              "      <td>-18.758079</td>\n",
              "      <td>0.000732</td>\n",
              "      <td>-0.061114</td>\n",
              "      <td>...</td>\n",
              "      <td>0.006083</td>\n",
              "      <td>0</td>\n",
              "      <td>0</td>\n",
              "      <td>0</td>\n",
              "      <td>0</td>\n",
              "      <td>0</td>\n",
              "      <td>1</td>\n",
              "      <td>0</td>\n",
              "      <td>0</td>\n",
              "      <td>0</td>\n",
              "    </tr>\n",
              "    <tr>\n",
              "      <th>2</th>\n",
              "      <td>5/1/99 0:04</td>\n",
              "      <td>0</td>\n",
              "      <td>0.363848</td>\n",
              "      <td>-4.681394</td>\n",
              "      <td>-4.353147</td>\n",
              "      <td>14.127997</td>\n",
              "      <td>-0.138636</td>\n",
              "      <td>-17.836632</td>\n",
              "      <td>0.010803</td>\n",
              "      <td>-0.061114</td>\n",
              "      <td>...</td>\n",
              "      <td>0.006090</td>\n",
              "      <td>0</td>\n",
              "      <td>0</td>\n",
              "      <td>0</td>\n",
              "      <td>0</td>\n",
              "      <td>0</td>\n",
              "      <td>1</td>\n",
              "      <td>0</td>\n",
              "      <td>0</td>\n",
              "      <td>0</td>\n",
              "    </tr>\n",
              "    <tr>\n",
              "      <th>3</th>\n",
              "      <td>5/1/99 0:06</td>\n",
              "      <td>0</td>\n",
              "      <td>0.301590</td>\n",
              "      <td>-4.758934</td>\n",
              "      <td>-4.023612</td>\n",
              "      <td>13.161566</td>\n",
              "      <td>-0.148142</td>\n",
              "      <td>-18.517601</td>\n",
              "      <td>0.002075</td>\n",
              "      <td>-0.061114</td>\n",
              "      <td>...</td>\n",
              "      <td>0.006097</td>\n",
              "      <td>0</td>\n",
              "      <td>0</td>\n",
              "      <td>0</td>\n",
              "      <td>0</td>\n",
              "      <td>0</td>\n",
              "      <td>1</td>\n",
              "      <td>0</td>\n",
              "      <td>0</td>\n",
              "      <td>0</td>\n",
              "    </tr>\n",
              "    <tr>\n",
              "      <th>4</th>\n",
              "      <td>5/1/99 0:08</td>\n",
              "      <td>0</td>\n",
              "      <td>0.265578</td>\n",
              "      <td>-4.749928</td>\n",
              "      <td>-4.333150</td>\n",
              "      <td>15.267340</td>\n",
              "      <td>-0.155314</td>\n",
              "      <td>-17.505913</td>\n",
              "      <td>0.000732</td>\n",
              "      <td>-0.061114</td>\n",
              "      <td>...</td>\n",
              "      <td>0.006105</td>\n",
              "      <td>0</td>\n",
              "      <td>0</td>\n",
              "      <td>0</td>\n",
              "      <td>0</td>\n",
              "      <td>0</td>\n",
              "      <td>1</td>\n",
              "      <td>0</td>\n",
              "      <td>0</td>\n",
              "      <td>0</td>\n",
              "    </tr>\n",
              "  </tbody>\n",
              "</table>\n",
              "<p>5 rows × 70 columns</p>\n",
              "</div>\n",
              "      <button class=\"colab-df-convert\" onclick=\"convertToInteractive('df-0cb44d6b-c1e0-4921-b8f4-e4fb02bd4d6f')\"\n",
              "              title=\"Convert this dataframe to an interactive table.\"\n",
              "              style=\"display:none;\">\n",
              "        \n",
              "  <svg xmlns=\"http://www.w3.org/2000/svg\" height=\"24px\"viewBox=\"0 0 24 24\"\n",
              "       width=\"24px\">\n",
              "    <path d=\"M0 0h24v24H0V0z\" fill=\"none\"/>\n",
              "    <path d=\"M18.56 5.44l.94 2.06.94-2.06 2.06-.94-2.06-.94-.94-2.06-.94 2.06-2.06.94zm-11 1L8.5 8.5l.94-2.06 2.06-.94-2.06-.94L8.5 2.5l-.94 2.06-2.06.94zm10 10l.94 2.06.94-2.06 2.06-.94-2.06-.94-.94-2.06-.94 2.06-2.06.94z\"/><path d=\"M17.41 7.96l-1.37-1.37c-.4-.4-.92-.59-1.43-.59-.52 0-1.04.2-1.43.59L10.3 9.45l-7.72 7.72c-.78.78-.78 2.05 0 2.83L4 21.41c.39.39.9.59 1.41.59.51 0 1.02-.2 1.41-.59l7.78-7.78 2.81-2.81c.8-.78.8-2.07 0-2.86zM5.41 20L4 18.59l7.72-7.72 1.47 1.35L5.41 20z\"/>\n",
              "  </svg>\n",
              "      </button>\n",
              "      \n",
              "  <style>\n",
              "    .colab-df-container {\n",
              "      display:flex;\n",
              "      flex-wrap:wrap;\n",
              "      gap: 12px;\n",
              "    }\n",
              "\n",
              "    .colab-df-convert {\n",
              "      background-color: #E8F0FE;\n",
              "      border: none;\n",
              "      border-radius: 50%;\n",
              "      cursor: pointer;\n",
              "      display: none;\n",
              "      fill: #1967D2;\n",
              "      height: 32px;\n",
              "      padding: 0 0 0 0;\n",
              "      width: 32px;\n",
              "    }\n",
              "\n",
              "    .colab-df-convert:hover {\n",
              "      background-color: #E2EBFA;\n",
              "      box-shadow: 0px 1px 2px rgba(60, 64, 67, 0.3), 0px 1px 3px 1px rgba(60, 64, 67, 0.15);\n",
              "      fill: #174EA6;\n",
              "    }\n",
              "\n",
              "    [theme=dark] .colab-df-convert {\n",
              "      background-color: #3B4455;\n",
              "      fill: #D2E3FC;\n",
              "    }\n",
              "\n",
              "    [theme=dark] .colab-df-convert:hover {\n",
              "      background-color: #434B5C;\n",
              "      box-shadow: 0px 1px 3px 1px rgba(0, 0, 0, 0.15);\n",
              "      filter: drop-shadow(0px 1px 2px rgba(0, 0, 0, 0.3));\n",
              "      fill: #FFFFFF;\n",
              "    }\n",
              "  </style>\n",
              "\n",
              "      <script>\n",
              "        const buttonEl =\n",
              "          document.querySelector('#df-0cb44d6b-c1e0-4921-b8f4-e4fb02bd4d6f button.colab-df-convert');\n",
              "        buttonEl.style.display =\n",
              "          google.colab.kernel.accessAllowed ? 'block' : 'none';\n",
              "\n",
              "        async function convertToInteractive(key) {\n",
              "          const element = document.querySelector('#df-0cb44d6b-c1e0-4921-b8f4-e4fb02bd4d6f');\n",
              "          const dataTable =\n",
              "            await google.colab.kernel.invokeFunction('convertToInteractive',\n",
              "                                                     [key], {});\n",
              "          if (!dataTable) return;\n",
              "\n",
              "          const docLinkHtml = 'Like what you see? Visit the ' +\n",
              "            '<a target=\"_blank\" href=https://colab.research.google.com/notebooks/data_table.ipynb>data table notebook</a>'\n",
              "            + ' to learn more about interactive tables.';\n",
              "          element.innerHTML = '';\n",
              "          dataTable['output_type'] = 'display_data';\n",
              "          await google.colab.output.renderOutput(dataTable, element);\n",
              "          const docLink = document.createElement('div');\n",
              "          docLink.innerHTML = docLinkHtml;\n",
              "          element.appendChild(docLink);\n",
              "        }\n",
              "      </script>\n",
              "    </div>\n",
              "  </div>\n",
              "  "
            ]
          },
          "metadata": {},
          "execution_count": 12
        }
      ]
    },
    {
      "cell_type": "markdown",
      "source": [
        "# Data Manipulation"
      ],
      "metadata": {
        "id": "YBfc1lwTVdAs"
      }
    },
    {
      "cell_type": "code",
      "source": [
        "from sklearn.preprocessing import MinMaxScaler\n",
        "\n",
        "X, y = events_encoded.iloc[:, 2:].values, events_encoded.iloc[:, 1].values\n",
        "minmax = MinMaxScaler()\n",
        "X_rescale = minmax.fit_transform(X)"
      ],
      "metadata": {
        "id": "2YDCr7QQVfIU"
      },
      "execution_count": null,
      "outputs": []
    },
    {
      "cell_type": "code",
      "source": [
        "index_one = np.where(events_encoded['y']==1)"
      ],
      "metadata": {
        "id": "PyCagOXGVf5S"
      },
      "execution_count": null,
      "outputs": []
    },
    {
      "cell_type": "code",
      "source": [
        "index_one = [arr.tolist() for arr in index_one][0]\n",
        "index_one"
      ],
      "metadata": {
        "colab": {
          "base_uri": "https://localhost:8080/"
        },
        "id": "MfhT2dU8qv2K",
        "outputId": "e9c5bf2e-6dba-486c-e2cc-96ea5656cc34"
      },
      "execution_count": null,
      "outputs": [
        {
          "output_type": "execute_result",
          "data": {
            "text/plain": [
              "[259,\n",
              " 776,\n",
              " 835,\n",
              " 1036,\n",
              " 1263,\n",
              " 1301,\n",
              " 1339,\n",
              " 1344,\n",
              " 1719,\n",
              " 1750,\n",
              " 2121,\n",
              " 2298,\n",
              " 2303,\n",
              " 2308,\n",
              " 2312,\n",
              " 2317,\n",
              " 2335,\n",
              " 2366,\n",
              " 2374,\n",
              " 2378,\n",
              " 2407,\n",
              " 2591,\n",
              " 2599,\n",
              " 2645,\n",
              " 2714,\n",
              " 2738,\n",
              " 2826,\n",
              " 2921,\n",
              " 2945,\n",
              " 2963,\n",
              " 2971,\n",
              " 2999,\n",
              " 3522,\n",
              " 3598,\n",
              " 3600,\n",
              " 3748,\n",
              " 4018,\n",
              " 4177,\n",
              " 4797,\n",
              " 4933,\n",
              " 5457,\n",
              " 6220,\n",
              " 6823,\n",
              " 7147,\n",
              " 7173,\n",
              " 7243,\n",
              " 7609,\n",
              " 7843,\n",
              " 7939,\n",
              " 7946,\n",
              " 8022,\n",
              " 8072,\n",
              " 8083,\n",
              " 8130,\n",
              " 8221,\n",
              " 8236,\n",
              " 8475,\n",
              " 8933,\n",
              " 9101,\n",
              " 9148,\n",
              " 9153,\n",
              " 9196,\n",
              " 9203,\n",
              " 9412,\n",
              " 9431,\n",
              " 9523,\n",
              " 9842,\n",
              " 10037,\n",
              " 10163,\n",
              " 10241,\n",
              " 10798,\n",
              " 10817,\n",
              " 10837,\n",
              " 10893,\n",
              " 11152,\n",
              " 11503,\n",
              " 11551,\n",
              " 11574,\n",
              " 11743,\n",
              " 11751,\n",
              " 11792,\n",
              " 11829,\n",
              " 11867,\n",
              " 12324,\n",
              " 13081,\n",
              " 13614,\n",
              " 14029,\n",
              " 14138,\n",
              " 14160,\n",
              " 14516,\n",
              " 14914,\n",
              " 15096,\n",
              " 15294,\n",
              " 15413,\n",
              " 15436,\n",
              " 15456,\n",
              " 15483,\n",
              " 15520,\n",
              " 15526,\n",
              " 15531,\n",
              " 15567,\n",
              " 15590,\n",
              " 15644,\n",
              " 15647,\n",
              " 15663,\n",
              " 15669,\n",
              " 15705,\n",
              " 15709,\n",
              " 15739,\n",
              " 15770,\n",
              " 15806,\n",
              " 15926,\n",
              " 16259,\n",
              " 16693,\n",
              " 16923,\n",
              " 17033,\n",
              " 17182,\n",
              " 17205,\n",
              " 17293,\n",
              " 17476,\n",
              " 17605,\n",
              " 17866,\n",
              " 17893,\n",
              " 18009]"
            ]
          },
          "metadata": {},
          "execution_count": 15
        }
      ]
    },
    {
      "cell_type": "code",
      "source": [
        "events.loc[776]"
      ],
      "metadata": {
        "colab": {
          "base_uri": "https://localhost:8080/"
        },
        "id": "fECHkIgBFYya",
        "outputId": "2c5185ed-0363-4fa4-be82-79f555dfa52d"
      },
      "execution_count": null,
      "outputs": [
        {
          "output_type": "execute_result",
          "data": {
            "text/plain": [
              "time    5/2/99 4:02\n",
              "y                 1\n",
              "x1        -0.782471\n",
              "x2       -12.118747\n",
              "x3       -16.855194\n",
              "           ...     \n",
              "x57        1.642284\n",
              "x58        0.013798\n",
              "x59        2.664362\n",
              "x60        0.007856\n",
              "x61               0\n",
              "Name: 776, Length: 63, dtype: object"
            ]
          },
          "metadata": {},
          "execution_count": 16
        }
      ]
    },
    {
      "cell_type": "code",
      "source": [
        "start_index = max(0, index_one[1] - 5)  # calculate the start index of the desired rows\n",
        "desired_rows = events_encoded.iloc[start_index:index_one[1] + 1]\n",
        "# flattened_array = desired_rows.to_numpy().flatten()\n",
        "# flattened_df = pd.DataFrame(flattened_array.reshape(1, -1))\n",
        "# flattened = np.ravel(desired_rows)\n",
        "\n",
        "# new_df = pd.DataFrame([flattened])\n",
        "# new_df\n",
        "desired_rows"
      ],
      "metadata": {
        "colab": {
          "base_uri": "https://localhost:8080/",
          "height": 267
        },
        "id": "PQJ42R7Qm4ko",
        "outputId": "4e0ad756-a750-432c-83d6-0eea51cb0647"
      },
      "execution_count": null,
      "outputs": [
        {
          "output_type": "execute_result",
          "data": {
            "text/plain": [
              "            time  y        x1         x2         x3         x4        x5  \\\n",
              "771  5/2/99 3:52  0 -0.783766  -4.815518   4.802241 -322.78161 -0.106455   \n",
              "772  5/2/99 3:54  0 -0.750687  -4.797807   4.794085 -322.78161 -0.232920   \n",
              "773  5/2/99 3:56  0 -0.686599  -4.627564   4.966667 -322.78161 -0.359400   \n",
              "774  5/2/99 3:58  0 -0.738480  -4.604522   5.133959 -322.78161 -0.485865   \n",
              "775  5/2/99 4:00  0 -0.706759  -6.442805  -0.920200 -322.78161 -0.612330   \n",
              "776  5/2/99 4:02  1 -0.782471 -12.118747 -16.855194 -322.78161 -0.738810   \n",
              "\n",
              "            x6        x7        x8  ...       x60  x61  51  82  84  93  96  \\\n",
              "771  20.957192  0.020874 -0.091023  ...  0.007803    0   0   0   0   1   0   \n",
              "772  21.944618  0.020874 -0.081257  ...  0.007814    0   0   0   0   1   0   \n",
              "773  22.932015  0.023967 -0.081257  ...  0.007824    0   0   0   0   1   0   \n",
              "774  23.919441  0.030640 -0.081257  ...  0.007835    0   0   0   0   1   0   \n",
              "775  24.906838  0.040711 -0.071186  ...  0.007845    0   0   0   0   1   0   \n",
              "776  25.966042  0.040711 -0.071186  ...  0.007856    0   0   0   0   1   0   \n",
              "\n",
              "     112  118  139  \n",
              "771    0    0    0  \n",
              "772    0    0    0  \n",
              "773    0    0    0  \n",
              "774    0    0    0  \n",
              "775    0    0    0  \n",
              "776    0    0    0  \n",
              "\n",
              "[6 rows x 70 columns]"
            ],
            "text/html": [
              "\n",
              "  <div id=\"df-dd54ae96-e21c-44bc-a220-c3a5d3cced17\">\n",
              "    <div class=\"colab-df-container\">\n",
              "      <div>\n",
              "<style scoped>\n",
              "    .dataframe tbody tr th:only-of-type {\n",
              "        vertical-align: middle;\n",
              "    }\n",
              "\n",
              "    .dataframe tbody tr th {\n",
              "        vertical-align: top;\n",
              "    }\n",
              "\n",
              "    .dataframe thead th {\n",
              "        text-align: right;\n",
              "    }\n",
              "</style>\n",
              "<table border=\"1\" class=\"dataframe\">\n",
              "  <thead>\n",
              "    <tr style=\"text-align: right;\">\n",
              "      <th></th>\n",
              "      <th>time</th>\n",
              "      <th>y</th>\n",
              "      <th>x1</th>\n",
              "      <th>x2</th>\n",
              "      <th>x3</th>\n",
              "      <th>x4</th>\n",
              "      <th>x5</th>\n",
              "      <th>x6</th>\n",
              "      <th>x7</th>\n",
              "      <th>x8</th>\n",
              "      <th>...</th>\n",
              "      <th>x60</th>\n",
              "      <th>x61</th>\n",
              "      <th>51</th>\n",
              "      <th>82</th>\n",
              "      <th>84</th>\n",
              "      <th>93</th>\n",
              "      <th>96</th>\n",
              "      <th>112</th>\n",
              "      <th>118</th>\n",
              "      <th>139</th>\n",
              "    </tr>\n",
              "  </thead>\n",
              "  <tbody>\n",
              "    <tr>\n",
              "      <th>771</th>\n",
              "      <td>5/2/99 3:52</td>\n",
              "      <td>0</td>\n",
              "      <td>-0.783766</td>\n",
              "      <td>-4.815518</td>\n",
              "      <td>4.802241</td>\n",
              "      <td>-322.78161</td>\n",
              "      <td>-0.106455</td>\n",
              "      <td>20.957192</td>\n",
              "      <td>0.020874</td>\n",
              "      <td>-0.091023</td>\n",
              "      <td>...</td>\n",
              "      <td>0.007803</td>\n",
              "      <td>0</td>\n",
              "      <td>0</td>\n",
              "      <td>0</td>\n",
              "      <td>0</td>\n",
              "      <td>1</td>\n",
              "      <td>0</td>\n",
              "      <td>0</td>\n",
              "      <td>0</td>\n",
              "      <td>0</td>\n",
              "    </tr>\n",
              "    <tr>\n",
              "      <th>772</th>\n",
              "      <td>5/2/99 3:54</td>\n",
              "      <td>0</td>\n",
              "      <td>-0.750687</td>\n",
              "      <td>-4.797807</td>\n",
              "      <td>4.794085</td>\n",
              "      <td>-322.78161</td>\n",
              "      <td>-0.232920</td>\n",
              "      <td>21.944618</td>\n",
              "      <td>0.020874</td>\n",
              "      <td>-0.081257</td>\n",
              "      <td>...</td>\n",
              "      <td>0.007814</td>\n",
              "      <td>0</td>\n",
              "      <td>0</td>\n",
              "      <td>0</td>\n",
              "      <td>0</td>\n",
              "      <td>1</td>\n",
              "      <td>0</td>\n",
              "      <td>0</td>\n",
              "      <td>0</td>\n",
              "      <td>0</td>\n",
              "    </tr>\n",
              "    <tr>\n",
              "      <th>773</th>\n",
              "      <td>5/2/99 3:56</td>\n",
              "      <td>0</td>\n",
              "      <td>-0.686599</td>\n",
              "      <td>-4.627564</td>\n",
              "      <td>4.966667</td>\n",
              "      <td>-322.78161</td>\n",
              "      <td>-0.359400</td>\n",
              "      <td>22.932015</td>\n",
              "      <td>0.023967</td>\n",
              "      <td>-0.081257</td>\n",
              "      <td>...</td>\n",
              "      <td>0.007824</td>\n",
              "      <td>0</td>\n",
              "      <td>0</td>\n",
              "      <td>0</td>\n",
              "      <td>0</td>\n",
              "      <td>1</td>\n",
              "      <td>0</td>\n",
              "      <td>0</td>\n",
              "      <td>0</td>\n",
              "      <td>0</td>\n",
              "    </tr>\n",
              "    <tr>\n",
              "      <th>774</th>\n",
              "      <td>5/2/99 3:58</td>\n",
              "      <td>0</td>\n",
              "      <td>-0.738480</td>\n",
              "      <td>-4.604522</td>\n",
              "      <td>5.133959</td>\n",
              "      <td>-322.78161</td>\n",
              "      <td>-0.485865</td>\n",
              "      <td>23.919441</td>\n",
              "      <td>0.030640</td>\n",
              "      <td>-0.081257</td>\n",
              "      <td>...</td>\n",
              "      <td>0.007835</td>\n",
              "      <td>0</td>\n",
              "      <td>0</td>\n",
              "      <td>0</td>\n",
              "      <td>0</td>\n",
              "      <td>1</td>\n",
              "      <td>0</td>\n",
              "      <td>0</td>\n",
              "      <td>0</td>\n",
              "      <td>0</td>\n",
              "    </tr>\n",
              "    <tr>\n",
              "      <th>775</th>\n",
              "      <td>5/2/99 4:00</td>\n",
              "      <td>0</td>\n",
              "      <td>-0.706759</td>\n",
              "      <td>-6.442805</td>\n",
              "      <td>-0.920200</td>\n",
              "      <td>-322.78161</td>\n",
              "      <td>-0.612330</td>\n",
              "      <td>24.906838</td>\n",
              "      <td>0.040711</td>\n",
              "      <td>-0.071186</td>\n",
              "      <td>...</td>\n",
              "      <td>0.007845</td>\n",
              "      <td>0</td>\n",
              "      <td>0</td>\n",
              "      <td>0</td>\n",
              "      <td>0</td>\n",
              "      <td>1</td>\n",
              "      <td>0</td>\n",
              "      <td>0</td>\n",
              "      <td>0</td>\n",
              "      <td>0</td>\n",
              "    </tr>\n",
              "    <tr>\n",
              "      <th>776</th>\n",
              "      <td>5/2/99 4:02</td>\n",
              "      <td>1</td>\n",
              "      <td>-0.782471</td>\n",
              "      <td>-12.118747</td>\n",
              "      <td>-16.855194</td>\n",
              "      <td>-322.78161</td>\n",
              "      <td>-0.738810</td>\n",
              "      <td>25.966042</td>\n",
              "      <td>0.040711</td>\n",
              "      <td>-0.071186</td>\n",
              "      <td>...</td>\n",
              "      <td>0.007856</td>\n",
              "      <td>0</td>\n",
              "      <td>0</td>\n",
              "      <td>0</td>\n",
              "      <td>0</td>\n",
              "      <td>1</td>\n",
              "      <td>0</td>\n",
              "      <td>0</td>\n",
              "      <td>0</td>\n",
              "      <td>0</td>\n",
              "    </tr>\n",
              "  </tbody>\n",
              "</table>\n",
              "<p>6 rows × 70 columns</p>\n",
              "</div>\n",
              "      <button class=\"colab-df-convert\" onclick=\"convertToInteractive('df-dd54ae96-e21c-44bc-a220-c3a5d3cced17')\"\n",
              "              title=\"Convert this dataframe to an interactive table.\"\n",
              "              style=\"display:none;\">\n",
              "        \n",
              "  <svg xmlns=\"http://www.w3.org/2000/svg\" height=\"24px\"viewBox=\"0 0 24 24\"\n",
              "       width=\"24px\">\n",
              "    <path d=\"M0 0h24v24H0V0z\" fill=\"none\"/>\n",
              "    <path d=\"M18.56 5.44l.94 2.06.94-2.06 2.06-.94-2.06-.94-.94-2.06-.94 2.06-2.06.94zm-11 1L8.5 8.5l.94-2.06 2.06-.94-2.06-.94L8.5 2.5l-.94 2.06-2.06.94zm10 10l.94 2.06.94-2.06 2.06-.94-2.06-.94-.94-2.06-.94 2.06-2.06.94z\"/><path d=\"M17.41 7.96l-1.37-1.37c-.4-.4-.92-.59-1.43-.59-.52 0-1.04.2-1.43.59L10.3 9.45l-7.72 7.72c-.78.78-.78 2.05 0 2.83L4 21.41c.39.39.9.59 1.41.59.51 0 1.02-.2 1.41-.59l7.78-7.78 2.81-2.81c.8-.78.8-2.07 0-2.86zM5.41 20L4 18.59l7.72-7.72 1.47 1.35L5.41 20z\"/>\n",
              "  </svg>\n",
              "      </button>\n",
              "      \n",
              "  <style>\n",
              "    .colab-df-container {\n",
              "      display:flex;\n",
              "      flex-wrap:wrap;\n",
              "      gap: 12px;\n",
              "    }\n",
              "\n",
              "    .colab-df-convert {\n",
              "      background-color: #E8F0FE;\n",
              "      border: none;\n",
              "      border-radius: 50%;\n",
              "      cursor: pointer;\n",
              "      display: none;\n",
              "      fill: #1967D2;\n",
              "      height: 32px;\n",
              "      padding: 0 0 0 0;\n",
              "      width: 32px;\n",
              "    }\n",
              "\n",
              "    .colab-df-convert:hover {\n",
              "      background-color: #E2EBFA;\n",
              "      box-shadow: 0px 1px 2px rgba(60, 64, 67, 0.3), 0px 1px 3px 1px rgba(60, 64, 67, 0.15);\n",
              "      fill: #174EA6;\n",
              "    }\n",
              "\n",
              "    [theme=dark] .colab-df-convert {\n",
              "      background-color: #3B4455;\n",
              "      fill: #D2E3FC;\n",
              "    }\n",
              "\n",
              "    [theme=dark] .colab-df-convert:hover {\n",
              "      background-color: #434B5C;\n",
              "      box-shadow: 0px 1px 3px 1px rgba(0, 0, 0, 0.15);\n",
              "      filter: drop-shadow(0px 1px 2px rgba(0, 0, 0, 0.3));\n",
              "      fill: #FFFFFF;\n",
              "    }\n",
              "  </style>\n",
              "\n",
              "      <script>\n",
              "        const buttonEl =\n",
              "          document.querySelector('#df-dd54ae96-e21c-44bc-a220-c3a5d3cced17 button.colab-df-convert');\n",
              "        buttonEl.style.display =\n",
              "          google.colab.kernel.accessAllowed ? 'block' : 'none';\n",
              "\n",
              "        async function convertToInteractive(key) {\n",
              "          const element = document.querySelector('#df-dd54ae96-e21c-44bc-a220-c3a5d3cced17');\n",
              "          const dataTable =\n",
              "            await google.colab.kernel.invokeFunction('convertToInteractive',\n",
              "                                                     [key], {});\n",
              "          if (!dataTable) return;\n",
              "\n",
              "          const docLinkHtml = 'Like what you see? Visit the ' +\n",
              "            '<a target=\"_blank\" href=https://colab.research.google.com/notebooks/data_table.ipynb>data table notebook</a>'\n",
              "            + ' to learn more about interactive tables.';\n",
              "          element.innerHTML = '';\n",
              "          dataTable['output_type'] = 'display_data';\n",
              "          await google.colab.output.renderOutput(dataTable, element);\n",
              "          const docLink = document.createElement('div');\n",
              "          docLink.innerHTML = docLinkHtml;\n",
              "          element.appendChild(docLink);\n",
              "        }\n",
              "      </script>\n",
              "    </div>\n",
              "  </div>\n",
              "  "
            ]
          },
          "metadata": {},
          "execution_count": 17
        }
      ]
    },
    {
      "cell_type": "code",
      "source": [
        "flattened = pd.DataFrame(desired_rows.values.flatten(), \n",
        "                         index=[f\"{i}_{col}\" for i in range(len(desired_rows.index)) for col in desired_rows.columns])\n",
        "reshape = flattened.T"
      ],
      "metadata": {
        "id": "f3q71XkN9ZGS"
      },
      "execution_count": null,
      "outputs": []
    },
    {
      "cell_type": "code",
      "source": [
        "# create an empty DataFrame\n",
        "df = pd.DataFrame()\n",
        "events_copy = events_encoded.copy()\n",
        "dropped_indices = []\n",
        "# loop over the indices where value is 1\n",
        "for i in index_one:\n",
        "  start_index = max(0, i - 5)  # calculate the start index of the desired rows\n",
        "  desired_rows = events_encoded.iloc[start_index:i + 1]\n",
        "  df.append(desired_rows)\n",
        "  dropped_indices += list(events_copy.index[start_index:i + 1])\n",
        "events_copy = events_copy.drop(dropped_indices)"
      ],
      "metadata": {
        "id": "2A8I-t5bVf65",
        "colab": {
          "base_uri": "https://localhost:8080/"
        },
        "outputId": "3101f462-721a-4720-a18d-69ea44f310e3"
      },
      "execution_count": null,
      "outputs": [
        {
          "output_type": "stream",
          "name": "stderr",
          "text": [
            "<ipython-input-19-96f64d079c3f>:9: FutureWarning: The frame.append method is deprecated and will be removed from pandas in a future version. Use pandas.concat instead.\n",
            "  df.append(desired_rows)\n"
          ]
        }
      ]
    },
    {
      "cell_type": "code",
      "source": [
        "df.y.value_counts()"
      ],
      "metadata": {
        "id": "H2fHlHmtVf88",
        "colab": {
          "base_uri": "https://localhost:8080/",
          "height": 287
        },
        "outputId": "c9395ea7-ae9b-41a2-cf00-d3993348d085"
      },
      "execution_count": null,
      "outputs": [
        {
          "output_type": "error",
          "ename": "AttributeError",
          "evalue": "ignored",
          "traceback": [
            "\u001b[0;31m---------------------------------------------------------------------------\u001b[0m",
            "\u001b[0;31mAttributeError\u001b[0m                            Traceback (most recent call last)",
            "\u001b[0;32m<ipython-input-20-9252556d6c5f>\u001b[0m in \u001b[0;36m<cell line: 1>\u001b[0;34m()\u001b[0m\n\u001b[0;32m----> 1\u001b[0;31m \u001b[0mdf\u001b[0m\u001b[0;34m.\u001b[0m\u001b[0my\u001b[0m\u001b[0;34m.\u001b[0m\u001b[0mvalue_counts\u001b[0m\u001b[0;34m(\u001b[0m\u001b[0;34m)\u001b[0m\u001b[0;34m\u001b[0m\u001b[0;34m\u001b[0m\u001b[0m\n\u001b[0m",
            "\u001b[0;32m/usr/local/lib/python3.10/dist-packages/pandas/core/generic.py\u001b[0m in \u001b[0;36m__getattr__\u001b[0;34m(self, name)\u001b[0m\n\u001b[1;32m   5900\u001b[0m         ):\n\u001b[1;32m   5901\u001b[0m             \u001b[0;32mreturn\u001b[0m \u001b[0mself\u001b[0m\u001b[0;34m[\u001b[0m\u001b[0mname\u001b[0m\u001b[0;34m]\u001b[0m\u001b[0;34m\u001b[0m\u001b[0;34m\u001b[0m\u001b[0m\n\u001b[0;32m-> 5902\u001b[0;31m         \u001b[0;32mreturn\u001b[0m \u001b[0mobject\u001b[0m\u001b[0;34m.\u001b[0m\u001b[0m__getattribute__\u001b[0m\u001b[0;34m(\u001b[0m\u001b[0mself\u001b[0m\u001b[0;34m,\u001b[0m \u001b[0mname\u001b[0m\u001b[0;34m)\u001b[0m\u001b[0;34m\u001b[0m\u001b[0;34m\u001b[0m\u001b[0m\n\u001b[0m\u001b[1;32m   5903\u001b[0m \u001b[0;34m\u001b[0m\u001b[0m\n\u001b[1;32m   5904\u001b[0m     \u001b[0;32mdef\u001b[0m \u001b[0m__setattr__\u001b[0m\u001b[0;34m(\u001b[0m\u001b[0mself\u001b[0m\u001b[0;34m,\u001b[0m \u001b[0mname\u001b[0m\u001b[0;34m:\u001b[0m \u001b[0mstr\u001b[0m\u001b[0;34m,\u001b[0m \u001b[0mvalue\u001b[0m\u001b[0;34m)\u001b[0m \u001b[0;34m->\u001b[0m \u001b[0;32mNone\u001b[0m\u001b[0;34m:\u001b[0m\u001b[0;34m\u001b[0m\u001b[0;34m\u001b[0m\u001b[0m\n",
            "\u001b[0;31mAttributeError\u001b[0m: 'DataFrame' object has no attribute 'y'"
          ]
        }
      ]
    },
    {
      "cell_type": "code",
      "source": [
        "events_copy.y.value_counts()"
      ],
      "metadata": {
        "id": "VL1NmgNdVf-o"
      },
      "execution_count": null,
      "outputs": []
    },
    {
      "cell_type": "code",
      "source": [
        "# start_index = max(0, index_one[0] - 5)\n",
        "# flatten_rows = df.loc[start_index:index_one[0]- 1]\n",
        "# flattened = np.ravel(flatten_rows)\n",
        "# flatten_df = pd.DataFrame([flattened])\n",
        "\n",
        "# start_index = max(0, index_one[1] - 5)\n",
        "# flatten_rows = df.loc[start_index:index_one[1]-1]\n",
        "# flattened = np.ravel(flatten_rows)\n",
        "# flatten_df = flatten_df.append([flattened])\n",
        "# flatten_df"
      ],
      "metadata": {
        "id": "XesA10OzCWav"
      },
      "execution_count": null,
      "outputs": []
    },
    {
      "cell_type": "code",
      "source": [
        "flatten_df"
      ],
      "metadata": {
        "id": "yq5BNPkUDQB9"
      },
      "execution_count": null,
      "outputs": []
    },
    {
      "cell_type": "code",
      "source": [
        "flatten_df = pd.DataFrame()\n",
        "for i in index_one:\n",
        "  start_index = max(0, i - 5)\n",
        "  print(i)\n",
        "  flatten_rows = df.loc[start_index:i-1]\n",
        "  flattened = np.ravel(flatten_rows)\n",
        "  flatten_df.append([flattened])#.reset_index(drop=True)\n",
        "flatten_df\n"
      ],
      "metadata": {
        "id": "4Mt5wOgwVgDv"
      },
      "execution_count": null,
      "outputs": []
    },
    {
      "cell_type": "markdown",
      "source": [
        "# Dataset Creation"
      ],
      "metadata": {
        "id": "EeMo9GP6Vgc2"
      }
    },
    {
      "cell_type": "code",
      "source": [
        "#get flatten_df len\n",
        "\n",
        "#random choice at length\n",
        "#add to new \"train\" until there are 2000\n",
        "\n",
        "#then get the ones and add to new \"train\" until there are 2000 added"
      ],
      "metadata": {
        "id": "IJzgPmROVj6H"
      },
      "execution_count": null,
      "outputs": []
    },
    {
      "cell_type": "code",
      "source": [],
      "metadata": {
        "id": "o2OUam7AVj8Z"
      },
      "execution_count": null,
      "outputs": []
    },
    {
      "cell_type": "code",
      "source": [],
      "metadata": {
        "id": "hOlZDKxmVj-6"
      },
      "execution_count": null,
      "outputs": []
    },
    {
      "cell_type": "code",
      "source": [
        "!pip install keras"
      ],
      "metadata": {
        "id": "lU1x0Wo6VkBT",
        "colab": {
          "base_uri": "https://localhost:8080/"
        },
        "outputId": "904bf2c0-7746-42a3-8753-6a628aefd9bb"
      },
      "execution_count": null,
      "outputs": [
        {
          "output_type": "stream",
          "name": "stdout",
          "text": [
            "Looking in indexes: https://pypi.org/simple, https://us-python.pkg.dev/colab-wheels/public/simple/\n",
            "Requirement already satisfied: keras in /usr/local/lib/python3.10/dist-packages (2.12.0)\n"
          ]
        }
      ]
    },
    {
      "cell_type": "code",
      "source": [
        "!pip install tensorflow"
      ],
      "metadata": {
        "colab": {
          "base_uri": "https://localhost:8080/"
        },
        "id": "ZKsenzyZMLa_",
        "outputId": "1670e075-633a-420d-e58b-4641c9252805"
      },
      "execution_count": null,
      "outputs": [
        {
          "output_type": "stream",
          "name": "stdout",
          "text": [
            "Looking in indexes: https://pypi.org/simple, https://us-python.pkg.dev/colab-wheels/public/simple/\n",
            "Requirement already satisfied: tensorflow in /usr/local/lib/python3.10/dist-packages (2.12.0)\n",
            "Requirement already satisfied: termcolor>=1.1.0 in /usr/local/lib/python3.10/dist-packages (from tensorflow) (2.3.0)\n",
            "Requirement already satisfied: wrapt<1.15,>=1.11.0 in /usr/local/lib/python3.10/dist-packages (from tensorflow) (1.14.1)\n",
            "Requirement already satisfied: jax>=0.3.15 in /usr/local/lib/python3.10/dist-packages (from tensorflow) (0.4.8)\n",
            "Requirement already satisfied: opt-einsum>=2.3.2 in /usr/local/lib/python3.10/dist-packages (from tensorflow) (3.3.0)\n",
            "Requirement already satisfied: keras<2.13,>=2.12.0 in /usr/local/lib/python3.10/dist-packages (from tensorflow) (2.12.0)\n",
            "Requirement already satisfied: tensorboard<2.13,>=2.12 in /usr/local/lib/python3.10/dist-packages (from tensorflow) (2.12.2)\n",
            "Requirement already satisfied: setuptools in /usr/local/lib/python3.10/dist-packages (from tensorflow) (67.7.2)\n",
            "Requirement already satisfied: libclang>=13.0.0 in /usr/local/lib/python3.10/dist-packages (from tensorflow) (16.0.0)\n",
            "Requirement already satisfied: google-pasta>=0.1.1 in /usr/local/lib/python3.10/dist-packages (from tensorflow) (0.2.0)\n",
            "Requirement already satisfied: numpy<1.24,>=1.22 in /usr/local/lib/python3.10/dist-packages (from tensorflow) (1.22.4)\n",
            "Requirement already satisfied: gast<=0.4.0,>=0.2.1 in /usr/local/lib/python3.10/dist-packages (from tensorflow) (0.4.0)\n",
            "Requirement already satisfied: six>=1.12.0 in /usr/local/lib/python3.10/dist-packages (from tensorflow) (1.16.0)\n",
            "Requirement already satisfied: tensorflow-io-gcs-filesystem>=0.23.1 in /usr/local/lib/python3.10/dist-packages (from tensorflow) (0.32.0)\n",
            "Requirement already satisfied: typing-extensions>=3.6.6 in /usr/local/lib/python3.10/dist-packages (from tensorflow) (4.5.0)\n",
            "Requirement already satisfied: tensorflow-estimator<2.13,>=2.12.0 in /usr/local/lib/python3.10/dist-packages (from tensorflow) (2.12.0)\n",
            "Requirement already satisfied: flatbuffers>=2.0 in /usr/local/lib/python3.10/dist-packages (from tensorflow) (23.3.3)\n",
            "Requirement already satisfied: absl-py>=1.0.0 in /usr/local/lib/python3.10/dist-packages (from tensorflow) (1.4.0)\n",
            "Requirement already satisfied: protobuf!=4.21.0,!=4.21.1,!=4.21.2,!=4.21.3,!=4.21.4,!=4.21.5,<5.0.0dev,>=3.20.3 in /usr/local/lib/python3.10/dist-packages (from tensorflow) (3.20.3)\n",
            "Requirement already satisfied: packaging in /usr/local/lib/python3.10/dist-packages (from tensorflow) (23.1)\n",
            "Requirement already satisfied: h5py>=2.9.0 in /usr/local/lib/python3.10/dist-packages (from tensorflow) (3.8.0)\n",
            "Requirement already satisfied: grpcio<2.0,>=1.24.3 in /usr/local/lib/python3.10/dist-packages (from tensorflow) (1.54.0)\n",
            "Requirement already satisfied: astunparse>=1.6.0 in /usr/local/lib/python3.10/dist-packages (from tensorflow) (1.6.3)\n",
            "Requirement already satisfied: wheel<1.0,>=0.23.0 in /usr/local/lib/python3.10/dist-packages (from astunparse>=1.6.0->tensorflow) (0.40.0)\n",
            "Requirement already satisfied: scipy>=1.7 in /usr/local/lib/python3.10/dist-packages (from jax>=0.3.15->tensorflow) (1.10.1)\n",
            "Requirement already satisfied: ml-dtypes>=0.0.3 in /usr/local/lib/python3.10/dist-packages (from jax>=0.3.15->tensorflow) (0.1.0)\n",
            "Requirement already satisfied: requests<3,>=2.21.0 in /usr/local/lib/python3.10/dist-packages (from tensorboard<2.13,>=2.12->tensorflow) (2.27.1)\n",
            "Requirement already satisfied: tensorboard-plugin-wit>=1.6.0 in /usr/local/lib/python3.10/dist-packages (from tensorboard<2.13,>=2.12->tensorflow) (1.8.1)\n",
            "Requirement already satisfied: werkzeug>=1.0.1 in /usr/local/lib/python3.10/dist-packages (from tensorboard<2.13,>=2.12->tensorflow) (2.3.0)\n",
            "Requirement already satisfied: tensorboard-data-server<0.8.0,>=0.7.0 in /usr/local/lib/python3.10/dist-packages (from tensorboard<2.13,>=2.12->tensorflow) (0.7.0)\n",
            "Requirement already satisfied: markdown>=2.6.8 in /usr/local/lib/python3.10/dist-packages (from tensorboard<2.13,>=2.12->tensorflow) (3.4.3)\n",
            "Requirement already satisfied: google-auth-oauthlib<1.1,>=0.5 in /usr/local/lib/python3.10/dist-packages (from tensorboard<2.13,>=2.12->tensorflow) (1.0.0)\n",
            "Requirement already satisfied: google-auth<3,>=1.6.3 in /usr/local/lib/python3.10/dist-packages (from tensorboard<2.13,>=2.12->tensorflow) (2.17.3)\n",
            "Requirement already satisfied: rsa<5,>=3.1.4 in /usr/local/lib/python3.10/dist-packages (from google-auth<3,>=1.6.3->tensorboard<2.13,>=2.12->tensorflow) (4.9)\n",
            "Requirement already satisfied: pyasn1-modules>=0.2.1 in /usr/local/lib/python3.10/dist-packages (from google-auth<3,>=1.6.3->tensorboard<2.13,>=2.12->tensorflow) (0.3.0)\n",
            "Requirement already satisfied: cachetools<6.0,>=2.0.0 in /usr/local/lib/python3.10/dist-packages (from google-auth<3,>=1.6.3->tensorboard<2.13,>=2.12->tensorflow) (5.3.0)\n",
            "Requirement already satisfied: requests-oauthlib>=0.7.0 in /usr/local/lib/python3.10/dist-packages (from google-auth-oauthlib<1.1,>=0.5->tensorboard<2.13,>=2.12->tensorflow) (1.3.1)\n",
            "Requirement already satisfied: urllib3<1.27,>=1.21.1 in /usr/local/lib/python3.10/dist-packages (from requests<3,>=2.21.0->tensorboard<2.13,>=2.12->tensorflow) (1.26.15)\n",
            "Requirement already satisfied: certifi>=2017.4.17 in /usr/local/lib/python3.10/dist-packages (from requests<3,>=2.21.0->tensorboard<2.13,>=2.12->tensorflow) (2022.12.7)\n",
            "Requirement already satisfied: idna<4,>=2.5 in /usr/local/lib/python3.10/dist-packages (from requests<3,>=2.21.0->tensorboard<2.13,>=2.12->tensorflow) (3.4)\n",
            "Requirement already satisfied: charset-normalizer~=2.0.0 in /usr/local/lib/python3.10/dist-packages (from requests<3,>=2.21.0->tensorboard<2.13,>=2.12->tensorflow) (2.0.12)\n",
            "Requirement already satisfied: MarkupSafe>=2.1.1 in /usr/local/lib/python3.10/dist-packages (from werkzeug>=1.0.1->tensorboard<2.13,>=2.12->tensorflow) (2.1.2)\n",
            "Requirement already satisfied: pyasn1<0.6.0,>=0.4.6 in /usr/local/lib/python3.10/dist-packages (from pyasn1-modules>=0.2.1->google-auth<3,>=1.6.3->tensorboard<2.13,>=2.12->tensorflow) (0.5.0)\n",
            "Requirement already satisfied: oauthlib>=3.0.0 in /usr/local/lib/python3.10/dist-packages (from requests-oauthlib>=0.7.0->google-auth-oauthlib<1.1,>=0.5->tensorboard<2.13,>=2.12->tensorflow) (3.2.2)\n"
          ]
        }
      ]
    },
    {
      "cell_type": "code",
      "source": [
        "!pip install kerastuner"
      ],
      "metadata": {
        "colab": {
          "base_uri": "https://localhost:8080/"
        },
        "id": "NdxSeaPfMaHh",
        "outputId": "2d734ab3-d669-400f-b12c-7afc1f17dedc"
      },
      "execution_count": null,
      "outputs": [
        {
          "output_type": "stream",
          "name": "stdout",
          "text": [
            "Looking in indexes: https://pypi.org/simple, https://us-python.pkg.dev/colab-wheels/public/simple/\n",
            "\u001b[31mERROR: Could not find a version that satisfies the requirement kerastuner (from versions: none)\u001b[0m\u001b[31m\n",
            "\u001b[0m\u001b[31mERROR: No matching distribution found for kerastuner\u001b[0m\u001b[31m\n",
            "\u001b[0m"
          ]
        }
      ]
    },
    {
      "cell_type": "markdown",
      "source": [
        "# Model Building"
      ],
      "metadata": {
        "id": "dZMAZ4pfVkNI"
      }
    },
    {
      "cell_type": "markdown",
      "source": [
        "## Baseline Model"
      ],
      "metadata": {
        "id": "dbmX15TELPQA"
      }
    },
    {
      "cell_type": "code",
      "source": [
        "import tensorflow as tf\n",
        "# import kerastuner.tuners as kt\n",
        "import matplotlib.pyplot as plt\n",
        "from tensorflow.keras import Model\n",
        "from tensorflow.keras import Sequential\n",
        "from tensorflow.keras.layers import Dense, Dropout\n",
        "from sklearn.model_selection import train_test_split\n",
        "from tensorflow.keras.losses import MeanSquaredLogarithmicError\n",
        "\n",
        "def autoencoder(output_size):\n",
        "  encoder = Sequential(\n",
        "      [\n",
        "       Dense(128, activation = \"relu\"),\n",
        "       Dense(64, activation = \"relu\"),\n",
        "       Dense(32, activation = \"relu\"),\n",
        "       Dense(16, activation = \"relu\")\n",
        "      ]\n",
        "  )\n",
        "\n",
        "  decoder = Sequential(\n",
        "      [\n",
        "          Dense(16, activation = \"relu\"),\n",
        "          Dense(32, activation = \"relu\"),\n",
        "          Dense(64, activation = \"relu\"),\n",
        "          Dense(128, activation = \"relu\"),\n",
        "          Dense(output_size, activation = \"sigmoid\")\n",
        "      ]\n",
        "  )\n",
        "\n",
        "\n",
        "  return encoder, decoder\n",
        "\n",
        "\n",
        "encoder, decoder = autoencoder(61)\n",
        "\n",
        "auto_encoder = decoder(encoder)\n"
      ],
      "metadata": {
        "id": "MrMFq9h5Vm7v",
        "colab": {
          "base_uri": "https://localhost:8080/",
          "height": 484
        },
        "outputId": "0b2cc89e-68fb-45f6-b2da-a9e6b6f152a4"
      },
      "execution_count": null,
      "outputs": [
        {
          "output_type": "stream",
          "name": "stderr",
          "text": [
            "WARNING:tensorflow:Layers in a Sequential model should only have a single input tensor. Received: inputs=<keras.engine.sequential.Sequential object at 0x7fc5f4ae8370>. Consider rewriting this model with the Functional API.\n"
          ]
        },
        {
          "output_type": "error",
          "ename": "TypeError",
          "evalue": "ignored",
          "traceback": [
            "\u001b[0;31m---------------------------------------------------------------------------\u001b[0m",
            "\u001b[0;31mTypeError\u001b[0m                                 Traceback (most recent call last)",
            "\u001b[0;32m<ipython-input-30-7e61fe3e9be1>\u001b[0m in \u001b[0;36m<cell line: 36>\u001b[0;34m()\u001b[0m\n\u001b[1;32m     34\u001b[0m \u001b[0mencoder\u001b[0m\u001b[0;34m,\u001b[0m \u001b[0mdecoder\u001b[0m \u001b[0;34m=\u001b[0m \u001b[0mautoencoder\u001b[0m\u001b[0;34m(\u001b[0m\u001b[0;36m61\u001b[0m\u001b[0;34m)\u001b[0m\u001b[0;34m\u001b[0m\u001b[0;34m\u001b[0m\u001b[0m\n\u001b[1;32m     35\u001b[0m \u001b[0;34m\u001b[0m\u001b[0m\n\u001b[0;32m---> 36\u001b[0;31m \u001b[0mauto_encoder\u001b[0m \u001b[0;34m=\u001b[0m \u001b[0mdecoder\u001b[0m\u001b[0;34m(\u001b[0m\u001b[0mencoder\u001b[0m\u001b[0;34m)\u001b[0m\u001b[0;34m\u001b[0m\u001b[0;34m\u001b[0m\u001b[0m\n\u001b[0m",
            "\u001b[0;32m/usr/local/lib/python3.10/dist-packages/keras/utils/traceback_utils.py\u001b[0m in \u001b[0;36merror_handler\u001b[0;34m(*args, **kwargs)\u001b[0m\n\u001b[1;32m     68\u001b[0m             \u001b[0;31m# To get the full stack trace, call:\u001b[0m\u001b[0;34m\u001b[0m\u001b[0;34m\u001b[0m\u001b[0m\n\u001b[1;32m     69\u001b[0m             \u001b[0;31m# `tf.debugging.disable_traceback_filtering()`\u001b[0m\u001b[0;34m\u001b[0m\u001b[0;34m\u001b[0m\u001b[0m\n\u001b[0;32m---> 70\u001b[0;31m             \u001b[0;32mraise\u001b[0m \u001b[0me\u001b[0m\u001b[0;34m.\u001b[0m\u001b[0mwith_traceback\u001b[0m\u001b[0;34m(\u001b[0m\u001b[0mfiltered_tb\u001b[0m\u001b[0;34m)\u001b[0m \u001b[0;32mfrom\u001b[0m \u001b[0;32mNone\u001b[0m\u001b[0;34m\u001b[0m\u001b[0;34m\u001b[0m\u001b[0m\n\u001b[0m\u001b[1;32m     71\u001b[0m         \u001b[0;32mfinally\u001b[0m\u001b[0;34m:\u001b[0m\u001b[0;34m\u001b[0m\u001b[0;34m\u001b[0m\u001b[0m\n\u001b[1;32m     72\u001b[0m             \u001b[0;32mdel\u001b[0m \u001b[0mfiltered_tb\u001b[0m\u001b[0;34m\u001b[0m\u001b[0;34m\u001b[0m\u001b[0m\n",
            "\u001b[0;32m/usr/local/lib/python3.10/dist-packages/keras/engine/input_spec.py\u001b[0m in \u001b[0;36massert_input_compatibility\u001b[0;34m(input_spec, inputs, layer_name)\u001b[0m\n\u001b[1;32m    211\u001b[0m         \u001b[0;31m# which does not have a `shape` attribute.\u001b[0m\u001b[0;34m\u001b[0m\u001b[0;34m\u001b[0m\u001b[0m\n\u001b[1;32m    212\u001b[0m         \u001b[0;32mif\u001b[0m \u001b[0;32mnot\u001b[0m \u001b[0mhasattr\u001b[0m\u001b[0;34m(\u001b[0m\u001b[0mx\u001b[0m\u001b[0;34m,\u001b[0m \u001b[0;34m\"shape\"\u001b[0m\u001b[0;34m)\u001b[0m\u001b[0;34m:\u001b[0m\u001b[0;34m\u001b[0m\u001b[0;34m\u001b[0m\u001b[0m\n\u001b[0;32m--> 213\u001b[0;31m             raise TypeError(\n\u001b[0m\u001b[1;32m    214\u001b[0m                 \u001b[0;34mf\"Inputs to a layer should be tensors. Got '{x}' \"\u001b[0m\u001b[0;34m\u001b[0m\u001b[0;34m\u001b[0m\u001b[0m\n\u001b[1;32m    215\u001b[0m                 \u001b[0;34mf\"(of type {type(x)}) as input for layer '{layer_name}'.\"\u001b[0m\u001b[0;34m\u001b[0m\u001b[0;34m\u001b[0m\u001b[0m\n",
            "\u001b[0;31mTypeError\u001b[0m: Exception encountered when calling layer 'sequential_1' (type Sequential).\n\nInputs to a layer should be tensors. Got '<keras.engine.sequential.Sequential object at 0x7fc5f4ae8370>' (of type <class 'keras.engine.sequential.Sequential'>) as input for layer 'dense_4'.\n\nCall arguments received by layer 'sequential_1' (type Sequential):\n  • inputs=<keras.engine.sequential.Sequential object at 0x7fc5f4ae8370>\n  • training=None\n  • mask=None"
          ]
        }
      ]
    },
    {
      "cell_type": "code",
      "source": [
        "import numpy as np\n",
        "from sklearn.datasets import make_regression\n",
        "\n",
        "X, y = make_regression(n_samples=1000, n_features=61, random_state=42)\n",
        "\n",
        "from sklearn.preprocessing import MinMaxScaler\n",
        "\n",
        "scaler = MinMaxScaler()\n",
        "X_norm = scaler.fit_transform(X)\n",
        "X_norm.shape"
      ],
      "metadata": {
        "colab": {
          "base_uri": "https://localhost:8080/"
        },
        "id": "XdjRahhrRjKV",
        "outputId": "521ffdcc-c91d-4d04-f2ba-2ca1c60e95c2"
      },
      "execution_count": null,
      "outputs": [
        {
          "output_type": "execute_result",
          "data": {
            "text/plain": [
              "(1000, 61)"
            ]
          },
          "metadata": {},
          "execution_count": 44
        }
      ]
    },
    {
      "cell_type": "code",
      "source": [
        "X_test = X_norm[800:, :]\n",
        "X_train = X_norm[:800, :]"
      ],
      "metadata": {
        "id": "R8fOtXB9WRFP"
      },
      "execution_count": null,
      "outputs": []
    },
    {
      "cell_type": "code",
      "source": [
        "#Cross validation setup\n",
        "\n",
        "#First make kfolds for training data\n",
        "\n",
        "#setup a model function that allows me to choose the neuron size and the number of layers in the encoder and decoder section\n",
        "\n",
        "\n",
        "import tensorflow as tf\n",
        "from tensorflow.keras.layers import Dense, Input, BatchNormalization\n",
        "from sklearn.model_selection import StratifiedKFold ## for classification\n",
        "from sklearn.model_selection import KFold\n",
        "\n",
        "skfolds = KFold(n_splits = 3, random_state = 1, shuffle = True) \n",
        "\n",
        "def autoencoder(input_shape, output_size, num_layers, neurons, batch_norm=False):\n",
        "  '''\n",
        "  This function lets us do cross-validation with many models of different types. Are goal here was to:\n",
        "  1. Allow different model structures (number of layers)\n",
        "  2. Change the number of neurons in the layers\n",
        "  3. Toggle batch normalization to see if it made an impact through regularization\n",
        "  '''\n",
        "  inputs = Input(shape=(input_shape,))\n",
        "  encoder_neurons = [neurons]\n",
        "\n",
        "  # Build encoder layers\n",
        "  for i in range(num_layers-1):\n",
        "      if i > 0: #On first iteration, number of neurons was already added above\n",
        "          encoder_neurons.append(encoder_neurons[-1] // 2)\n",
        "      #add dense layer to the model, using the last value in the encoder_neurons list\n",
        "      encoder = Dense(encoder_neurons[-1], activation=\"relu\")(inputs if i == 0 else encoder)\n",
        "      if batch_norm:\n",
        "          encoder = BatchNormalization()(encoder)\n",
        "\n",
        "  # Bottleneck layer\n",
        "  bottleneck = Dense(encoder_neurons[-1] // 2, activation=\"relu\")(encoder)\n",
        "\n",
        "  # Build decoder layers\n",
        "  decoder_neurons = encoder_neurons[::-1] #reverse the list from before\n",
        "  for i in range(num_layers-1):\n",
        "      #For each layer after the first, \n",
        "      decoder = Dense(decoder_neurons[i], activation=\"relu\")(bottleneck if i == 0 else decoder)\n",
        "      if batch_norm:\n",
        "          decoder = BatchNormalization()(decoder)\n",
        "\n",
        "  # Output layer\n",
        "  output = Dense(output_size, activation=\"sigmoid\")(decoder)\n",
        "\n",
        "  # Build and compile model\n",
        "  autoencoder = tf.keras.Model(inputs=inputs, outputs=output)\n",
        "  autoencoder.compile(loss='mae', metrics=['mae'], optimizer='adam')\n",
        "  return autoencoder\n",
        "\n",
        "#constants\n",
        "input = 61\n",
        "output = 61\n",
        "\n",
        "# cross-validation hyper-parameters\n",
        "layers = [3,4,5]\n",
        "layers = [3,4]\n",
        "norm_bools = [True, False]\n",
        "layer_neurons = [128, 256]\n",
        "\n",
        "\n",
        "#Cross val splits\n",
        "\n",
        "\n",
        "# cross-validation\n",
        "auto_encoder_results = []\n",
        "\n",
        "for layer in layers:\n",
        "  for norm_bool in norm_bools:\n",
        "    for layer_neuron in layer_neurons:\n",
        "      cv_results_train = []\n",
        "      cv_results_test = []\n",
        "\n",
        "      for train_index, test_index in skfolds.split(X_train, X_train):\n",
        "\n",
        "        auto_encoder = autoencoder(input, output, layer, layer_neuron, norm_bool)\n",
        "        auto_encoder.compile(\n",
        "          loss='mae',\n",
        "          metrics=['mae'],\n",
        "          optimizer='adam')\n",
        "        \n",
        "        auto_encoder.fit(X_train[train_index], X_train[train_index], \n",
        "                                   epochs = 1, batch_size = 16, \n",
        "                                   validation_data = (X_train[test_index], X_train[test_index]))\n",
        "        \n",
        "        train_loss, train_mae = auto_encoder.evaluate(X_train[train_index], X_train[train_index])\n",
        "        test_loss, test_mae = auto_encoder.evaluate(X_train[test_index], X_train[test_index])\n",
        "        cv_results_train.append(train_mae)\n",
        "        cv_results_test.append(test_mae)\n",
        "      \n",
        "      auto_encoder_results.append([auto_encoder, np.mean(cv_results_train), np.mean(cv_results_test)])\n",
        "\n",
        "auto_encoder_results\n"
      ],
      "metadata": {
        "colab": {
          "base_uri": "https://localhost:8080/"
        },
        "id": "8OVvit68hAtW",
        "outputId": "e4002350-3a43-4b02-e2bc-8a9a165b5684"
      },
      "execution_count": null,
      "outputs": [
        {
          "output_type": "stream",
          "name": "stdout",
          "text": [
            "34/34 [==============================] - 3s 13ms/step - loss: 0.2058 - mae: 0.2058 - val_loss: 0.1277 - val_mae: 0.1277\n",
            "17/17 [==============================] - 0s 2ms/step - loss: 0.1273 - mae: 0.1273\n",
            "9/9 [==============================] - 0s 2ms/step - loss: 0.1277 - mae: 0.1277\n",
            "34/34 [==============================] - 3s 14ms/step - loss: 0.2084 - mae: 0.2084 - val_loss: 0.1274 - val_mae: 0.1274\n",
            "17/17 [==============================] - 0s 2ms/step - loss: 0.1266 - mae: 0.1266\n",
            "9/9 [==============================] - 0s 3ms/step - loss: 0.1274 - mae: 0.1274\n",
            "34/34 [==============================] - 3s 18ms/step - loss: 0.2105 - mae: 0.2105 - val_loss: 0.1259 - val_mae: 0.1259\n",
            "17/17 [==============================] - 0s 4ms/step - loss: 0.1272 - mae: 0.1272\n",
            "9/9 [==============================] - 0s 5ms/step - loss: 0.1259 - mae: 0.1259\n",
            "34/34 [==============================] - 3s 14ms/step - loss: 0.2134 - mae: 0.2134 - val_loss: 0.1269 - val_mae: 0.1269\n",
            "17/17 [==============================] - 0s 2ms/step - loss: 0.1265 - mae: 0.1265\n",
            "9/9 [==============================] - 0s 2ms/step - loss: 0.1269 - mae: 0.1269\n",
            "34/34 [==============================] - 3s 14ms/step - loss: 0.2140 - mae: 0.2140 - val_loss: 0.1276 - val_mae: 0.1276\n",
            "17/17 [==============================] - 0s 2ms/step - loss: 0.1264 - mae: 0.1264\n",
            "9/9 [==============================] - 0s 3ms/step - loss: 0.1276 - mae: 0.1276\n",
            "34/34 [==============================] - 3s 14ms/step - loss: 0.2151 - mae: 0.2151 - val_loss: 0.1263 - val_mae: 0.1263\n",
            "17/17 [==============================] - 0s 2ms/step - loss: 0.1271 - mae: 0.1271\n",
            "9/9 [==============================] - 0s 2ms/step - loss: 0.1263 - mae: 0.1263\n",
            "34/34 [==============================] - 2s 17ms/step - loss: 0.1262 - mae: 0.1262 - val_loss: 0.1243 - val_mae: 0.1243\n",
            "17/17 [==============================] - 0s 3ms/step - loss: 0.1241 - mae: 0.1241\n",
            "9/9 [==============================] - 0s 3ms/step - loss: 0.1243 - mae: 0.1243\n",
            "34/34 [==============================] - 3s 11ms/step - loss: 0.1253 - mae: 0.1253 - val_loss: 0.1254 - val_mae: 0.1254\n",
            "17/17 [==============================] - 0s 2ms/step - loss: 0.1233 - mae: 0.1233\n",
            "9/9 [==============================] - 0s 3ms/step - loss: 0.1254 - mae: 0.1254\n",
            "34/34 [==============================] - 2s 10ms/step - loss: 0.1265 - mae: 0.1265 - val_loss: 0.1236 - val_mae: 0.1236\n",
            "17/17 [==============================] - 0s 2ms/step - loss: 0.1247 - mae: 0.1247\n",
            "9/9 [==============================] - 0s 2ms/step - loss: 0.1236 - mae: 0.1236\n",
            "34/34 [==============================] - 1s 10ms/step - loss: 0.1256 - mae: 0.1256 - val_loss: 0.1236 - val_mae: 0.1236\n",
            "17/17 [==============================] - 0s 2ms/step - loss: 0.1236 - mae: 0.1236\n",
            "9/9 [==============================] - 0s 2ms/step - loss: 0.1236 - mae: 0.1236\n",
            "34/34 [==============================] - 1s 10ms/step - loss: 0.1247 - mae: 0.1247 - val_loss: 0.1249 - val_mae: 0.1249\n",
            "17/17 [==============================] - 0s 2ms/step - loss: 0.1230 - mae: 0.1230\n",
            "9/9 [==============================] - 0s 2ms/step - loss: 0.1249 - mae: 0.1249\n",
            "34/34 [==============================] - 2s 10ms/step - loss: 0.1254 - mae: 0.1254 - val_loss: 0.1230 - val_mae: 0.1230\n",
            "17/17 [==============================] - 0s 2ms/step - loss: 0.1240 - mae: 0.1240\n",
            "9/9 [==============================] - 0s 3ms/step - loss: 0.1230 - mae: 0.1230\n",
            "34/34 [==============================] - 5s 17ms/step - loss: 0.2033 - mae: 0.2033 - val_loss: 0.1266 - val_mae: 0.1266\n",
            "17/17 [==============================] - 0s 3ms/step - loss: 0.1267 - mae: 0.1267\n",
            "9/9 [==============================] - 0s 3ms/step - loss: 0.1266 - mae: 0.1266\n",
            "34/34 [==============================] - 4s 15ms/step - loss: 0.2046 - mae: 0.2046 - val_loss: 0.1280 - val_mae: 0.1280\n",
            "17/17 [==============================] - 0s 2ms/step - loss: 0.1269 - mae: 0.1269\n",
            "9/9 [==============================] - 0s 3ms/step - loss: 0.1280 - mae: 0.1280\n",
            "34/34 [==============================] - 4s 16ms/step - loss: 0.2068 - mae: 0.2068 - val_loss: 0.1268 - val_mae: 0.1268\n",
            "17/17 [==============================] - 0s 2ms/step - loss: 0.1278 - mae: 0.1278\n",
            "9/9 [==============================] - 0s 4ms/step - loss: 0.1268 - mae: 0.1268\n",
            "34/34 [==============================] - 5s 18ms/step - loss: 0.2133 - mae: 0.2133 - val_loss: 0.1273 - val_mae: 0.1273\n",
            "17/17 [==============================] - 0s 3ms/step - loss: 0.1272 - mae: 0.1272\n",
            "9/9 [==============================] - 0s 4ms/step - loss: 0.1273 - mae: 0.1273\n",
            "34/34 [==============================] - 4s 16ms/step - loss: 0.2134 - mae: 0.2134 - val_loss: 0.1278 - val_mae: 0.1278\n",
            "17/17 [==============================] - 0s 2ms/step - loss: 0.1265 - mae: 0.1265\n",
            "9/9 [==============================] - 0s 3ms/step - loss: 0.1278 - mae: 0.1278\n",
            "34/34 [==============================] - 4s 26ms/step - loss: 0.2168 - mae: 0.2168 - val_loss: 0.1260 - val_mae: 0.1260\n",
            "17/17 [==============================] - 0s 3ms/step - loss: 0.1270 - mae: 0.1270\n",
            "9/9 [==============================] - 0s 4ms/step - loss: 0.1260 - mae: 0.1260\n",
            "34/34 [==============================] - 2s 12ms/step - loss: 0.1260 - mae: 0.1260 - val_loss: 0.1245 - val_mae: 0.1245\n",
            "17/17 [==============================] - 0s 3ms/step - loss: 0.1245 - mae: 0.1245\n",
            "9/9 [==============================] - 0s 3ms/step - loss: 0.1245 - mae: 0.1245\n",
            "34/34 [==============================] - 2s 13ms/step - loss: 0.1258 - mae: 0.1258 - val_loss: 0.1256 - val_mae: 0.1256\n",
            "17/17 [==============================] - 0s 2ms/step - loss: 0.1238 - mae: 0.1238\n",
            "9/9 [==============================] - 0s 4ms/step - loss: 0.1256 - mae: 0.1256\n",
            "34/34 [==============================] - 2s 12ms/step - loss: 0.1262 - mae: 0.1262 - val_loss: 0.1236 - val_mae: 0.1236\n",
            "17/17 [==============================] - 0s 2ms/step - loss: 0.1244 - mae: 0.1244\n",
            "9/9 [==============================] - 0s 3ms/step - loss: 0.1236 - mae: 0.1236\n",
            "34/34 [==============================] - 2s 11ms/step - loss: 0.1256 - mae: 0.1256 - val_loss: 0.1243 - val_mae: 0.1243\n",
            "17/17 [==============================] - 0s 2ms/step - loss: 0.1242 - mae: 0.1242\n",
            "9/9 [==============================] - 0s 3ms/step - loss: 0.1243 - mae: 0.1243\n",
            "34/34 [==============================] - 2s 17ms/step - loss: 0.1248 - mae: 0.1248 - val_loss: 0.1253 - val_mae: 0.1253\n",
            "17/17 [==============================] - 0s 3ms/step - loss: 0.1235 - mae: 0.1235\n",
            "9/9 [==============================] - 0s 3ms/step - loss: 0.1253 - mae: 0.1253\n",
            "34/34 [==============================] - 4s 13ms/step - loss: 0.1258 - mae: 0.1258 - val_loss: 0.1239 - val_mae: 0.1239\n",
            "17/17 [==============================] - 0s 2ms/step - loss: 0.1247 - mae: 0.1247\n",
            "9/9 [==============================] - 0s 3ms/step - loss: 0.1239 - mae: 0.1239\n"
          ]
        },
        {
          "output_type": "execute_result",
          "data": {
            "text/plain": [
              "[[<keras.engine.functional.Functional at 0x7fc5c49bddb0>,\n",
              "  0.12706363697846731,\n",
              "  0.1270018368959427],\n",
              " [<keras.engine.functional.Functional at 0x7fc5ba3c70d0>,\n",
              "  0.12664978206157684,\n",
              "  0.12691539029280344],\n",
              " [<keras.engine.functional.Functional at 0x7fc5b64dc6a0>,\n",
              "  0.12406874199708302,\n",
              "  0.12442587316036224],\n",
              " [<keras.engine.functional.Functional at 0x7fc5d98496f0>,\n",
              "  0.12351589898268382,\n",
              "  0.1238678867618243],\n",
              " [<keras.engine.functional.Functional at 0x7fc5bfa89db0>,\n",
              "  0.1271259586016337,\n",
              "  0.12714171906312308],\n",
              " [<keras.engine.functional.Functional at 0x7fc5b8491570>,\n",
              "  0.12689030170440674,\n",
              "  0.12700231870015463],\n",
              " [<keras.engine.functional.Functional at 0x7fc5cc90c850>,\n",
              "  0.1242273176709811,\n",
              "  0.12455881386995316],\n",
              " [<keras.engine.functional.Functional at 0x7fc5c4842590>,\n",
              "  0.124127763013045,\n",
              "  0.12450406948725383]]"
            ]
          },
          "metadata": {},
          "execution_count": 118
        }
      ]
    },
    {
      "cell_type": "code",
      "source": [
        "best = 5\n",
        "auto_encoder_results[best][0].summary()"
      ],
      "metadata": {
        "colab": {
          "base_uri": "https://localhost:8080/"
        },
        "id": "l5izAKzWvu6i",
        "outputId": "dc1d3629-e616-41de-95ee-b2e6ca516e5b"
      },
      "execution_count": null,
      "outputs": [
        {
          "output_type": "stream",
          "name": "stdout",
          "text": [
            "Model: \"model_118\"\n",
            "_________________________________________________________________\n",
            " Layer (type)                Output Shape              Param #   \n",
            "=================================================================\n",
            " input_116 (InputLayer)      [(None, 61)]              0         \n",
            "                                                                 \n",
            " dense_779 (Dense)           (None, 256)               15872     \n",
            "                                                                 \n",
            " batch_normalization_272 (Ba  (None, 256)              1024      \n",
            " tchNormalization)                                               \n",
            "                                                                 \n",
            " dense_780 (Dense)           (None, 128)               32896     \n",
            "                                                                 \n",
            " batch_normalization_273 (Ba  (None, 128)              512       \n",
            " tchNormalization)                                               \n",
            "                                                                 \n",
            " dense_781 (Dense)           (None, 64)                8256      \n",
            "                                                                 \n",
            " batch_normalization_274 (Ba  (None, 64)               256       \n",
            " tchNormalization)                                               \n",
            "                                                                 \n",
            " dense_782 (Dense)           (None, 32)                2080      \n",
            "                                                                 \n",
            " dense_783 (Dense)           (None, 64)                2112      \n",
            "                                                                 \n",
            " batch_normalization_275 (Ba  (None, 64)               256       \n",
            " tchNormalization)                                               \n",
            "                                                                 \n",
            " dense_784 (Dense)           (None, 128)               8320      \n",
            "                                                                 \n",
            " batch_normalization_276 (Ba  (None, 128)              512       \n",
            " tchNormalization)                                               \n",
            "                                                                 \n",
            " dense_785 (Dense)           (None, 256)               33024     \n",
            "                                                                 \n",
            " batch_normalization_277 (Ba  (None, 256)              1024      \n",
            " tchNormalization)                                               \n",
            "                                                                 \n",
            " dense_786 (Dense)           (None, 61)                15677     \n",
            "                                                                 \n",
            "=================================================================\n",
            "Total params: 121,821\n",
            "Trainable params: 120,029\n",
            "Non-trainable params: 1,792\n",
            "_________________________________________________________________\n"
          ]
        }
      ]
    },
    {
      "cell_type": "code",
      "source": [
        "encoder_model = tf.keras.Model(inputs=auto_encoder_results[best][0].inputs, outputs=auto_encoder_results[best][0].layers[len(auto_encoder_results[best][0].layers) // 2].output)\n",
        "encoder_model.predict(X_train).shape"
      ],
      "metadata": {
        "colab": {
          "base_uri": "https://localhost:8080/"
        },
        "id": "6O67idtzppv9",
        "outputId": "cab3b6b7-6cdc-4321-9472-ac5f2ea53017"
      },
      "execution_count": null,
      "outputs": [
        {
          "output_type": "stream",
          "name": "stdout",
          "text": [
            "25/25 [==============================] - 0s 2ms/step\n"
          ]
        },
        {
          "output_type": "execute_result",
          "data": {
            "text/plain": [
              "(800, 32)"
            ]
          },
          "metadata": {},
          "execution_count": 131
        }
      ]
    },
    {
      "cell_type": "code",
      "source": [
        "#From above\n",
        "layers = 3\n",
        "layer_neuron = 256\n",
        "norm_bool = True\n",
        "\n",
        "auto_encoder = autoencoder(input, output, layer, layer_neuron, norm_bool)\n",
        "\n",
        "auto_encoder.compile(\n",
        "          loss='mae',\n",
        "          metrics=['mae'],\n",
        "          optimizer='adam')\n",
        "        \n",
        "history = auto_encoder.fit(X_train, X_train, \n",
        "          epochs = 10, batch_size = 16)\n",
        "\n",
        "\n",
        "encoder_model = tf.keras.Model(inputs=auto_encoder_results[best][0].inputs, outputs=auto_encoder_results[best][0].layers[len(auto_encoder_results[best][0].layers) // 2].output)\n",
        "encoder_model.predict(X_train).shape #output is now 32 so we now have our trained encoder"
      ],
      "metadata": {
        "colab": {
          "base_uri": "https://localhost:8080/"
        },
        "id": "0l4AfOgZy3Qf",
        "outputId": "1ec59eda-b1f9-449a-cefb-b6eeb401d19d"
      },
      "execution_count": null,
      "outputs": [
        {
          "output_type": "stream",
          "name": "stdout",
          "text": [
            "Epoch 1/10\n",
            "50/50 [==============================] - 4s 5ms/step - loss: 0.2066 - mae: 0.2066\n",
            "Epoch 2/10\n",
            "50/50 [==============================] - 0s 5ms/step - loss: 0.1682 - mae: 0.1682\n",
            "Epoch 3/10\n",
            "50/50 [==============================] - 0s 5ms/step - loss: 0.1510 - mae: 0.1510\n",
            "Epoch 4/10\n",
            "50/50 [==============================] - 0s 5ms/step - loss: 0.1403 - mae: 0.1403\n",
            "Epoch 5/10\n",
            "50/50 [==============================] - 0s 4ms/step - loss: 0.1332 - mae: 0.1332\n",
            "Epoch 6/10\n",
            "50/50 [==============================] - 0s 5ms/step - loss: 0.1295 - mae: 0.1295\n",
            "Epoch 7/10\n",
            "50/50 [==============================] - 0s 5ms/step - loss: 0.1262 - mae: 0.1262\n",
            "Epoch 8/10\n",
            "50/50 [==============================] - 0s 5ms/step - loss: 0.1249 - mae: 0.1249\n",
            "Epoch 9/10\n",
            "50/50 [==============================] - 0s 5ms/step - loss: 0.1229 - mae: 0.1229\n",
            "Epoch 10/10\n",
            "50/50 [==============================] - 0s 5ms/step - loss: 0.1215 - mae: 0.1215\n",
            "25/25 [==============================] - 0s 2ms/step\n"
          ]
        },
        {
          "output_type": "execute_result",
          "data": {
            "text/plain": [
              "(800, 32)"
            ]
          },
          "metadata": {},
          "execution_count": 133
        }
      ]
    },
    {
      "cell_type": "code",
      "source": [
        "import matplotlib.pyplot as plt\n",
        "plt.plot(history.history['loss'], label='train')\n",
        "# plt.plot(history.history['val_loss'], label='validation')\n",
        "plt.legend()\n",
        "\n",
        "plt.show()"
      ],
      "metadata": {
        "colab": {
          "base_uri": "https://localhost:8080/",
          "height": 430
        },
        "id": "6qEijyeeVmrQ",
        "outputId": "3d423d19-dbae-485c-83b2-7386cfbc9b03"
      },
      "execution_count": null,
      "outputs": [
        {
          "output_type": "display_data",
          "data": {
            "text/plain": [
              "<Figure size 640x480 with 1 Axes>"
            ],
            "image/png": "[encoded data removed]"
          },
          "metadata": {}
        }
      ]
    },
    {
      "cell_type": "code",
      "source": [
        "from sklearn.pipeline import Pipeline\n",
        "from sklearn.linear_model import LogisticRegression\n",
        "from sklearn.pipeline import Pipeline\n",
        "from sklearn.linear_model import LogisticRegression\n",
        "from sklearn.base import BaseEstimator, TransformerMixin\n",
        "\n",
        "class PretrainedEncoder(BaseEstimator, TransformerMixin): \n",
        "  #Using this class helps us create a custom transformer, using base estimator and transformer mixin as defaults for certain methods\n",
        "    #We do this because we want to use the sklearn pipeline, but we need to give it a custom fit() function \n",
        "    #because we don't want it to get retrained when fitting our logistic regression!!!\n",
        "    def __init__(self, encoder):\n",
        "        self.encoder = encoder\n",
        "        \n",
        "    def fit(self, X, y=None):\n",
        "        return self\n",
        "    \n",
        "    def transform(self, X):\n",
        "        return self.encoder.predict(X)\n",
        "\n",
        "# Create pipeline\n",
        "ensemble = Pipeline([('encoder', PretrainedEncoder(encoder_model)), ('logistic', LogisticRegression())])\n",
        "\n",
        "# Fit logistic regression to encoded data\n",
        "ensemble.fit(X_train, y_train)\n",
        "\n",
        "# Make predictions on test data\n",
        "ensemble.predict(X_test)\n"
      ],
      "metadata": {
        "colab": {
          "base_uri": "https://localhost:8080/",
          "height": 235
        },
        "id": "JOwQcnknVm75",
        "outputId": "3d1938ab-33e8-40c4-f1fa-dad29ae35f33"
      },
      "execution_count": null,
      "outputs": [
        {
          "output_type": "error",
          "ename": "NameError",
          "evalue": "ignored",
          "traceback": [
            "\u001b[0;31m---------------------------------------------------------------------------\u001b[0m",
            "\u001b[0;31mNameError\u001b[0m                                 Traceback (most recent call last)",
            "\u001b[0;32m<ipython-input-80-d25eaffea600>\u001b[0m in \u001b[0;36m<cell line: 24>\u001b[0;34m()\u001b[0m\n\u001b[1;32m     22\u001b[0m \u001b[0;34m\u001b[0m\u001b[0m\n\u001b[1;32m     23\u001b[0m \u001b[0;31m# Fit logistic regression to encoded data\u001b[0m\u001b[0;34m\u001b[0m\u001b[0;34m\u001b[0m\u001b[0m\n\u001b[0;32m---> 24\u001b[0;31m \u001b[0mensemble\u001b[0m\u001b[0;34m.\u001b[0m\u001b[0mfit\u001b[0m\u001b[0;34m(\u001b[0m\u001b[0mX_train\u001b[0m\u001b[0;34m,\u001b[0m \u001b[0my_train\u001b[0m\u001b[0;34m)\u001b[0m\u001b[0;34m\u001b[0m\u001b[0;34m\u001b[0m\u001b[0m\n\u001b[0m\u001b[1;32m     25\u001b[0m \u001b[0;34m\u001b[0m\u001b[0m\n\u001b[1;32m     26\u001b[0m \u001b[0;31m# Make predictions on test data\u001b[0m\u001b[0;34m\u001b[0m\u001b[0;34m\u001b[0m\u001b[0m\n",
            "\u001b[0;31mNameError\u001b[0m: name 'y_train' is not defined"
          ]
        }
      ]
    },
    {
      "cell_type": "code",
      "source": [
        "#Get encoded representation of data\n",
        "\n",
        "#Train a logistic regression on the data with encoded representations as inputs, and outputs as 0 or 1 for the sample data"
      ],
      "metadata": {
        "id": "z_A2gk88Vm-N"
      },
      "execution_count": null,
      "outputs": []
    },
    {
      "cell_type": "code",
      "source": [
        "\n",
        "\n",
        "lr = LinearRegression()\n",
        "lr.fit(encoded_data, y_train)"
      ],
      "metadata": {
        "id": "HCAxP36sVnAy"
      },
      "execution_count": null,
      "outputs": []
    },
    {
      "cell_type": "code",
      "source": [
        "[128, 64, 32, 16][::-1]"
      ],
      "metadata": {
        "id": "NdfCH5R2VnDV",
        "colab": {
          "base_uri": "https://localhost:8080/"
        },
        "outputId": "e5f195b2-f9cb-4b8f-fee0-552564145028"
      },
      "execution_count": null,
      "outputs": [
        {
          "output_type": "execute_result",
          "data": {
            "text/plain": [
              "[16, 32, 64, 128]"
            ]
          },
          "metadata": {},
          "execution_count": 82
        }
      ]
    },
    {
      "cell_type": "markdown",
      "source": [
        "# Model Testing"
      ],
      "metadata": {
        "id": "7rA8FiljVnP8"
      }
    },
    {
      "cell_type": "code",
      "source": [
        "#Run the encoding on the test data and perform the same logistic regression model on the encoded data and see how our results are. Will want to check precision and recall probably\n",
        "y_test = ?"
      ],
      "metadata": {
        "id": "8T8AhSajVor5"
      },
      "execution_count": null,
      "outputs": []
    },
    {
      "cell_type": "code",
      "source": [
        "predictions = ensemble.predict(X_test)"
      ],
      "metadata": {
        "id": "Jw_jreOiVo6w"
      },
      "execution_count": null,
      "outputs": []
    },
    {
      "cell_type": "code",
      "source": [
        "from sklearn.metrics import precision_score, recall_score, f1_score\n",
        "\n",
        "precision = precision_score(y_test, predictions)\n",
        "recall = recall_score(y_test, predictions)\n",
        "f1 = f1_score(y_test, predictions)"
      ],
      "metadata": {
        "id": "YUFB-hL_Vo9U"
      },
      "execution_count": null,
      "outputs": []
    },
    {
      "cell_type": "code",
      "source": [
        "fig, ax = plt.subplots(figsize=(8, 6))\n",
        "ax.scatter(range(len(y_test)), y_test, label='Actual', alpha=0.5)\n",
        "ax.scatter(range(len(y_test)), predictions, label='Predicted', alpha=0.5)\n",
        "ax.set_xlabel('Sample')\n",
        "ax.set_ylabel('Label')\n",
        "ax.legend()\n",
        "plt.show()"
      ],
      "metadata": {
        "id": "Iij3xhOXVo_q"
      },
      "execution_count": null,
      "outputs": []
    },
    {
      "cell_type": "code",
      "source": [],
      "metadata": {
        "id": "SaYEBLQJVpB_"
      },
      "execution_count": null,
      "outputs": []
    },
    {
      "cell_type": "code",
      "source": [],
      "metadata": {
        "id": "QSkt82pZVpEU"
      },
      "execution_count": null,
      "outputs": []
    }
  ]
}